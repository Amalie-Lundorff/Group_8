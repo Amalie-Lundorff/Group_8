{
 "cells": [
  {
   "attachments": {},
   "cell_type": "markdown",
   "metadata": {},
   "source": [
    "# Introduction"
   ]
  },
  {
   "attachments": {},
   "cell_type": "markdown",
   "metadata": {},
   "source": [
    "Hopefully, this short tutorial can show you a lot of different commands that will help you gain the most insights into your dataset. "
   ]
  },
  {
   "cell_type": "code",
   "execution_count": 1,
   "metadata": {},
   "outputs": [],
   "source": [
    "#Importing system-level tasks and data manipulation for processing data using panda\n",
    "import sys\n",
    "import pandas as pd"
   ]
  },
  {
   "cell_type": "code",
   "execution_count": 2,
   "metadata": {
    "collapsed": true
   },
   "outputs": [],
   "source": [
    "# My folder is located at my desktop in a folder, so I will add the folder containing the src module to Python's path\n",
    "sys.path.append('/Users/<your-username>/Desktop/Group 8 - 62444 projects')\n"
   ]
  },
  {
   "cell_type": "markdown",
   "metadata": {},
   "source": [
    "Importing the data from the Google drive file"
   ]
  },
  {
   "cell_type": "code",
   "execution_count": 3,
   "metadata": {},
   "outputs": [
    {
     "name": "stdout",
     "output_type": "stream",
     "text": [
      "   Season  Daynum  Wteam  Wscore  Lteam  Lscore Wloc  Numot\n",
      "0    1985      20   1228      81   1328      64    N      0\n",
      "1    1985      25   1106      77   1354      70    H      0\n",
      "2    1985      25   1112      63   1223      56    H      0\n",
      "3    1985      25   1165      70   1432      54    H      0\n",
      "4    1985      25   1192      86   1447      74    H      0\n"
     ]
    }
   ],
   "source": [
    "import pandas as pd\n",
    "\n",
    "#Here the data is loaded from Google Drive as provided:\n",
    "def load_data_from_google_drive(url):\n",
    "    \"\"\"\n",
    "    Converts a Google Drive link into a downloadable link and loads it as a pandas DataFrame.\n",
    "    \"\"\"\n",
    "    # Extracting the file ID from the Google Drive URL\n",
    "    file_id = url.split(\"/d/\")[1].split(\"/\")[0]\n",
    "    download_url = f\"https://drive.google.com/uc?id={file_id}\"\n",
    "    \n",
    "    # Load the data into a pandas DataFrame\n",
    "    return pd.read_csv(download_url)\n",
    "\n",
    "# Assign URL to a variable\n",
    "url = 'https://drive.google.com/file/d/184JcLbSpArA_uq0DgAv2k892KChJVPHt/view?usp=share_link'\n",
    "\n",
    "# Loading the data using the function and defining the data as the dataframe\n",
    "df = load_data_from_google_drive(url)\n",
    "\n",
    "# Display the first few rows\n",
    "print(df.head())\n"
   ]
  },
  {
   "attachments": {},
   "cell_type": "markdown",
   "metadata": {},
   "source": [
    "# Loading in Data"
   ]
  },
  {
   "attachments": {},
   "cell_type": "markdown",
   "metadata": {},
   "source": [
    "The first step in any ML problem is identifying what format your data is in, and then loading it into whatever framework you're using. For Kaggle compeitions, a lot of data can be found in CSV files, so that's the example we're going to use. "
   ]
  },
  {
   "attachments": {},
   "cell_type": "markdown",
   "metadata": {},
   "source": [
    "We're going to be looking at a sports dataset that shows the results from NCAA basketball games from 1985 to 2016. This dataset is in a CSV file, and the function we're going to use to read in the file is called **pd.read_csv()**. This function returns a **dataframe** variable. The dataframe is the golden jewel data structure for Pandas. It is defined as \"a two-dimensional size-mutable, potentially heterogeneous tabular data structure with labeled axes (rows and columns)\"."
   ]
  },
  {
   "attachments": {},
   "cell_type": "markdown",
   "metadata": {},
   "source": [
    "Just think of it as a table for now. "
   ]
  },
  {
   "cell_type": "code",
   "execution_count": 4,
   "metadata": {
    "collapsed": false
   },
   "outputs": [
    {
     "name": "stdout",
     "output_type": "stream",
     "text": [
      "   Season  Daynum  Wteam  Wscore  Lteam  Lscore Wloc  Numot\n",
      "0    1985      20   1228      81   1328      64    N      0\n",
      "1    1985      25   1106      77   1354      70    H      0\n",
      "2    1985      25   1112      63   1223      56    H      0\n",
      "3    1985      25   1165      70   1432      54    H      0\n",
      "4    1985      25   1192      86   1447      74    H      0\n"
     ]
    }
   ],
   "source": [
    "# Assign URL to a variable\n",
    "url = 'https://drive.google.com/file/d/184JcLbSpArA_uq0DgAv2k892KChJVPHt/view?usp=share_link'\n",
    "\n",
    "# Loading the data using the function and defining the data as the dataframe\n",
    "df = load_data_from_google_drive(url)\n",
    "\n",
    "# Display the first few rows of the dataFrame\n",
    "print(df.head())"
   ]
  },
  {
   "cell_type": "code",
   "execution_count": 5,
   "metadata": {},
   "outputs": [
    {
     "data": {
      "text/html": [
       "<div>\n",
       "<style scoped>\n",
       "    .dataframe tbody tr th:only-of-type {\n",
       "        vertical-align: middle;\n",
       "    }\n",
       "\n",
       "    .dataframe tbody tr th {\n",
       "        vertical-align: top;\n",
       "    }\n",
       "\n",
       "    .dataframe thead th {\n",
       "        text-align: right;\n",
       "    }\n",
       "</style>\n",
       "<table border=\"1\" class=\"dataframe\">\n",
       "  <thead>\n",
       "    <tr style=\"text-align: right;\">\n",
       "      <th></th>\n",
       "      <th>Season</th>\n",
       "      <th>Daynum</th>\n",
       "      <th>Wteam</th>\n",
       "      <th>Wscore</th>\n",
       "      <th>Lteam</th>\n",
       "      <th>Lscore</th>\n",
       "      <th>Wloc</th>\n",
       "      <th>Numot</th>\n",
       "    </tr>\n",
       "  </thead>\n",
       "  <tbody>\n",
       "    <tr>\n",
       "      <th>0</th>\n",
       "      <td>1985</td>\n",
       "      <td>20</td>\n",
       "      <td>1228</td>\n",
       "      <td>81</td>\n",
       "      <td>1328</td>\n",
       "      <td>64</td>\n",
       "      <td>N</td>\n",
       "      <td>0</td>\n",
       "    </tr>\n",
       "    <tr>\n",
       "      <th>1</th>\n",
       "      <td>1985</td>\n",
       "      <td>25</td>\n",
       "      <td>1106</td>\n",
       "      <td>77</td>\n",
       "      <td>1354</td>\n",
       "      <td>70</td>\n",
       "      <td>H</td>\n",
       "      <td>0</td>\n",
       "    </tr>\n",
       "    <tr>\n",
       "      <th>2</th>\n",
       "      <td>1985</td>\n",
       "      <td>25</td>\n",
       "      <td>1112</td>\n",
       "      <td>63</td>\n",
       "      <td>1223</td>\n",
       "      <td>56</td>\n",
       "      <td>H</td>\n",
       "      <td>0</td>\n",
       "    </tr>\n",
       "    <tr>\n",
       "      <th>3</th>\n",
       "      <td>1985</td>\n",
       "      <td>25</td>\n",
       "      <td>1165</td>\n",
       "      <td>70</td>\n",
       "      <td>1432</td>\n",
       "      <td>54</td>\n",
       "      <td>H</td>\n",
       "      <td>0</td>\n",
       "    </tr>\n",
       "    <tr>\n",
       "      <th>4</th>\n",
       "      <td>1985</td>\n",
       "      <td>25</td>\n",
       "      <td>1192</td>\n",
       "      <td>86</td>\n",
       "      <td>1447</td>\n",
       "      <td>74</td>\n",
       "      <td>H</td>\n",
       "      <td>0</td>\n",
       "    </tr>\n",
       "    <tr>\n",
       "      <th>...</th>\n",
       "      <td>...</td>\n",
       "      <td>...</td>\n",
       "      <td>...</td>\n",
       "      <td>...</td>\n",
       "      <td>...</td>\n",
       "      <td>...</td>\n",
       "      <td>...</td>\n",
       "      <td>...</td>\n",
       "    </tr>\n",
       "    <tr>\n",
       "      <th>145284</th>\n",
       "      <td>2016</td>\n",
       "      <td>132</td>\n",
       "      <td>1114</td>\n",
       "      <td>70</td>\n",
       "      <td>1419</td>\n",
       "      <td>50</td>\n",
       "      <td>N</td>\n",
       "      <td>0</td>\n",
       "    </tr>\n",
       "    <tr>\n",
       "      <th>145285</th>\n",
       "      <td>2016</td>\n",
       "      <td>132</td>\n",
       "      <td>1163</td>\n",
       "      <td>72</td>\n",
       "      <td>1272</td>\n",
       "      <td>58</td>\n",
       "      <td>N</td>\n",
       "      <td>0</td>\n",
       "    </tr>\n",
       "    <tr>\n",
       "      <th>145286</th>\n",
       "      <td>2016</td>\n",
       "      <td>132</td>\n",
       "      <td>1246</td>\n",
       "      <td>82</td>\n",
       "      <td>1401</td>\n",
       "      <td>77</td>\n",
       "      <td>N</td>\n",
       "      <td>1</td>\n",
       "    </tr>\n",
       "    <tr>\n",
       "      <th>145287</th>\n",
       "      <td>2016</td>\n",
       "      <td>132</td>\n",
       "      <td>1277</td>\n",
       "      <td>66</td>\n",
       "      <td>1345</td>\n",
       "      <td>62</td>\n",
       "      <td>N</td>\n",
       "      <td>0</td>\n",
       "    </tr>\n",
       "    <tr>\n",
       "      <th>145288</th>\n",
       "      <td>2016</td>\n",
       "      <td>132</td>\n",
       "      <td>1386</td>\n",
       "      <td>87</td>\n",
       "      <td>1433</td>\n",
       "      <td>74</td>\n",
       "      <td>N</td>\n",
       "      <td>0</td>\n",
       "    </tr>\n",
       "  </tbody>\n",
       "</table>\n",
       "<p>145289 rows × 8 columns</p>\n",
       "</div>"
      ],
      "text/plain": [
       "        Season  Daynum  Wteam  Wscore  Lteam  Lscore Wloc  Numot\n",
       "0         1985      20   1228      81   1328      64    N      0\n",
       "1         1985      25   1106      77   1354      70    H      0\n",
       "2         1985      25   1112      63   1223      56    H      0\n",
       "3         1985      25   1165      70   1432      54    H      0\n",
       "4         1985      25   1192      86   1447      74    H      0\n",
       "...        ...     ...    ...     ...    ...     ...  ...    ...\n",
       "145284    2016     132   1114      70   1419      50    N      0\n",
       "145285    2016     132   1163      72   1272      58    N      0\n",
       "145286    2016     132   1246      82   1401      77    N      1\n",
       "145287    2016     132   1277      66   1345      62    N      0\n",
       "145288    2016     132   1386      87   1433      74    N      0\n",
       "\n",
       "[145289 rows x 8 columns]"
      ]
     },
     "execution_count": 5,
     "metadata": {},
     "output_type": "execute_result"
    }
   ],
   "source": [
    "#Display the dataframe with number of rows and columns\n",
    "df"
   ]
  },
  {
   "attachments": {},
   "cell_type": "markdown",
   "metadata": {},
   "source": [
    "# The Basics"
   ]
  },
  {
   "attachments": {},
   "cell_type": "markdown",
   "metadata": {},
   "source": [
    "Now that we have our dataframe in our variable df, let's look at what it contains. We can use the function **head()** to see the first couple rows of the dataframe (or the function **tail()** to see the last few rows)."
   ]
  },
  {
   "cell_type": "code",
   "execution_count": 6,
   "metadata": {
    "collapsed": false
   },
   "outputs": [
    {
     "data": {
      "text/html": [
       "<div>\n",
       "<style scoped>\n",
       "    .dataframe tbody tr th:only-of-type {\n",
       "        vertical-align: middle;\n",
       "    }\n",
       "\n",
       "    .dataframe tbody tr th {\n",
       "        vertical-align: top;\n",
       "    }\n",
       "\n",
       "    .dataframe thead th {\n",
       "        text-align: right;\n",
       "    }\n",
       "</style>\n",
       "<table border=\"1\" class=\"dataframe\">\n",
       "  <thead>\n",
       "    <tr style=\"text-align: right;\">\n",
       "      <th></th>\n",
       "      <th>Season</th>\n",
       "      <th>Daynum</th>\n",
       "      <th>Wteam</th>\n",
       "      <th>Wscore</th>\n",
       "      <th>Lteam</th>\n",
       "      <th>Lscore</th>\n",
       "      <th>Wloc</th>\n",
       "      <th>Numot</th>\n",
       "    </tr>\n",
       "  </thead>\n",
       "  <tbody>\n",
       "    <tr>\n",
       "      <th>0</th>\n",
       "      <td>1985</td>\n",
       "      <td>20</td>\n",
       "      <td>1228</td>\n",
       "      <td>81</td>\n",
       "      <td>1328</td>\n",
       "      <td>64</td>\n",
       "      <td>N</td>\n",
       "      <td>0</td>\n",
       "    </tr>\n",
       "    <tr>\n",
       "      <th>1</th>\n",
       "      <td>1985</td>\n",
       "      <td>25</td>\n",
       "      <td>1106</td>\n",
       "      <td>77</td>\n",
       "      <td>1354</td>\n",
       "      <td>70</td>\n",
       "      <td>H</td>\n",
       "      <td>0</td>\n",
       "    </tr>\n",
       "    <tr>\n",
       "      <th>2</th>\n",
       "      <td>1985</td>\n",
       "      <td>25</td>\n",
       "      <td>1112</td>\n",
       "      <td>63</td>\n",
       "      <td>1223</td>\n",
       "      <td>56</td>\n",
       "      <td>H</td>\n",
       "      <td>0</td>\n",
       "    </tr>\n",
       "    <tr>\n",
       "      <th>3</th>\n",
       "      <td>1985</td>\n",
       "      <td>25</td>\n",
       "      <td>1165</td>\n",
       "      <td>70</td>\n",
       "      <td>1432</td>\n",
       "      <td>54</td>\n",
       "      <td>H</td>\n",
       "      <td>0</td>\n",
       "    </tr>\n",
       "    <tr>\n",
       "      <th>4</th>\n",
       "      <td>1985</td>\n",
       "      <td>25</td>\n",
       "      <td>1192</td>\n",
       "      <td>86</td>\n",
       "      <td>1447</td>\n",
       "      <td>74</td>\n",
       "      <td>H</td>\n",
       "      <td>0</td>\n",
       "    </tr>\n",
       "  </tbody>\n",
       "</table>\n",
       "</div>"
      ],
      "text/plain": [
       "   Season  Daynum  Wteam  Wscore  Lteam  Lscore Wloc  Numot\n",
       "0    1985      20   1228      81   1328      64    N      0\n",
       "1    1985      25   1106      77   1354      70    H      0\n",
       "2    1985      25   1112      63   1223      56    H      0\n",
       "3    1985      25   1165      70   1432      54    H      0\n",
       "4    1985      25   1192      86   1447      74    H      0"
      ]
     },
     "execution_count": 6,
     "metadata": {},
     "output_type": "execute_result"
    }
   ],
   "source": [
    "df.head()"
   ]
  },
  {
   "cell_type": "code",
   "execution_count": 7,
   "metadata": {
    "collapsed": false
   },
   "outputs": [
    {
     "data": {
      "text/html": [
       "<div>\n",
       "<style scoped>\n",
       "    .dataframe tbody tr th:only-of-type {\n",
       "        vertical-align: middle;\n",
       "    }\n",
       "\n",
       "    .dataframe tbody tr th {\n",
       "        vertical-align: top;\n",
       "    }\n",
       "\n",
       "    .dataframe thead th {\n",
       "        text-align: right;\n",
       "    }\n",
       "</style>\n",
       "<table border=\"1\" class=\"dataframe\">\n",
       "  <thead>\n",
       "    <tr style=\"text-align: right;\">\n",
       "      <th></th>\n",
       "      <th>Season</th>\n",
       "      <th>Daynum</th>\n",
       "      <th>Wteam</th>\n",
       "      <th>Wscore</th>\n",
       "      <th>Lteam</th>\n",
       "      <th>Lscore</th>\n",
       "      <th>Wloc</th>\n",
       "      <th>Numot</th>\n",
       "    </tr>\n",
       "  </thead>\n",
       "  <tbody>\n",
       "    <tr>\n",
       "      <th>145284</th>\n",
       "      <td>2016</td>\n",
       "      <td>132</td>\n",
       "      <td>1114</td>\n",
       "      <td>70</td>\n",
       "      <td>1419</td>\n",
       "      <td>50</td>\n",
       "      <td>N</td>\n",
       "      <td>0</td>\n",
       "    </tr>\n",
       "    <tr>\n",
       "      <th>145285</th>\n",
       "      <td>2016</td>\n",
       "      <td>132</td>\n",
       "      <td>1163</td>\n",
       "      <td>72</td>\n",
       "      <td>1272</td>\n",
       "      <td>58</td>\n",
       "      <td>N</td>\n",
       "      <td>0</td>\n",
       "    </tr>\n",
       "    <tr>\n",
       "      <th>145286</th>\n",
       "      <td>2016</td>\n",
       "      <td>132</td>\n",
       "      <td>1246</td>\n",
       "      <td>82</td>\n",
       "      <td>1401</td>\n",
       "      <td>77</td>\n",
       "      <td>N</td>\n",
       "      <td>1</td>\n",
       "    </tr>\n",
       "    <tr>\n",
       "      <th>145287</th>\n",
       "      <td>2016</td>\n",
       "      <td>132</td>\n",
       "      <td>1277</td>\n",
       "      <td>66</td>\n",
       "      <td>1345</td>\n",
       "      <td>62</td>\n",
       "      <td>N</td>\n",
       "      <td>0</td>\n",
       "    </tr>\n",
       "    <tr>\n",
       "      <th>145288</th>\n",
       "      <td>2016</td>\n",
       "      <td>132</td>\n",
       "      <td>1386</td>\n",
       "      <td>87</td>\n",
       "      <td>1433</td>\n",
       "      <td>74</td>\n",
       "      <td>N</td>\n",
       "      <td>0</td>\n",
       "    </tr>\n",
       "  </tbody>\n",
       "</table>\n",
       "</div>"
      ],
      "text/plain": [
       "        Season  Daynum  Wteam  Wscore  Lteam  Lscore Wloc  Numot\n",
       "145284    2016     132   1114      70   1419      50    N      0\n",
       "145285    2016     132   1163      72   1272      58    N      0\n",
       "145286    2016     132   1246      82   1401      77    N      1\n",
       "145287    2016     132   1277      66   1345      62    N      0\n",
       "145288    2016     132   1386      87   1433      74    N      0"
      ]
     },
     "execution_count": 7,
     "metadata": {},
     "output_type": "execute_result"
    }
   ],
   "source": [
    "df.tail()"
   ]
  },
  {
   "attachments": {},
   "cell_type": "markdown",
   "metadata": {},
   "source": [
    "We can see the dimensions of the dataframe using the the **shape** attribute"
   ]
  },
  {
   "cell_type": "code",
   "execution_count": 8,
   "metadata": {
    "collapsed": false
   },
   "outputs": [
    {
     "data": {
      "text/plain": [
       "(145289, 8)"
      ]
     },
     "execution_count": 8,
     "metadata": {},
     "output_type": "execute_result"
    }
   ],
   "source": [
    "df.shape"
   ]
  },
  {
   "attachments": {},
   "cell_type": "markdown",
   "metadata": {
    "collapsed": true
   },
   "source": [
    "We can also extract all the column names as a list, by using the **columns** attribute and can extract the rows with the **index** attribute"
   ]
  },
  {
   "cell_type": "code",
   "execution_count": 9,
   "metadata": {
    "collapsed": false
   },
   "outputs": [
    {
     "data": {
      "text/plain": [
       "['Season', 'Daynum', 'Wteam', 'Wscore', 'Lteam', 'Lscore', 'Wloc', 'Numot']"
      ]
     },
     "execution_count": 9,
     "metadata": {},
     "output_type": "execute_result"
    }
   ],
   "source": [
    "df.columns.tolist()"
   ]
  },
  {
   "attachments": {},
   "cell_type": "markdown",
   "metadata": {},
   "source": [
    "In order to get a better idea of the type of data that we are dealing with, we can call the **describe()** function to see statistics like mean, min, etc about each column of the dataset. "
   ]
  },
  {
   "cell_type": "code",
   "execution_count": 10,
   "metadata": {
    "collapsed": false
   },
   "outputs": [
    {
     "data": {
      "text/html": [
       "<div>\n",
       "<style scoped>\n",
       "    .dataframe tbody tr th:only-of-type {\n",
       "        vertical-align: middle;\n",
       "    }\n",
       "\n",
       "    .dataframe tbody tr th {\n",
       "        vertical-align: top;\n",
       "    }\n",
       "\n",
       "    .dataframe thead th {\n",
       "        text-align: right;\n",
       "    }\n",
       "</style>\n",
       "<table border=\"1\" class=\"dataframe\">\n",
       "  <thead>\n",
       "    <tr style=\"text-align: right;\">\n",
       "      <th></th>\n",
       "      <th>Season</th>\n",
       "      <th>Daynum</th>\n",
       "      <th>Wteam</th>\n",
       "      <th>Wscore</th>\n",
       "      <th>Lteam</th>\n",
       "      <th>Lscore</th>\n",
       "      <th>Numot</th>\n",
       "    </tr>\n",
       "  </thead>\n",
       "  <tbody>\n",
       "    <tr>\n",
       "      <th>count</th>\n",
       "      <td>145289.000000</td>\n",
       "      <td>145289.000000</td>\n",
       "      <td>145289.000000</td>\n",
       "      <td>145289.000000</td>\n",
       "      <td>145289.000000</td>\n",
       "      <td>145289.000000</td>\n",
       "      <td>145289.000000</td>\n",
       "    </tr>\n",
       "    <tr>\n",
       "      <th>mean</th>\n",
       "      <td>2001.574834</td>\n",
       "      <td>75.223816</td>\n",
       "      <td>1286.720646</td>\n",
       "      <td>76.600321</td>\n",
       "      <td>1282.864064</td>\n",
       "      <td>64.497009</td>\n",
       "      <td>0.044387</td>\n",
       "    </tr>\n",
       "    <tr>\n",
       "      <th>std</th>\n",
       "      <td>9.233342</td>\n",
       "      <td>33.287418</td>\n",
       "      <td>104.570275</td>\n",
       "      <td>12.173033</td>\n",
       "      <td>104.829234</td>\n",
       "      <td>11.380625</td>\n",
       "      <td>0.247819</td>\n",
       "    </tr>\n",
       "    <tr>\n",
       "      <th>min</th>\n",
       "      <td>1985.000000</td>\n",
       "      <td>0.000000</td>\n",
       "      <td>1101.000000</td>\n",
       "      <td>34.000000</td>\n",
       "      <td>1101.000000</td>\n",
       "      <td>20.000000</td>\n",
       "      <td>0.000000</td>\n",
       "    </tr>\n",
       "    <tr>\n",
       "      <th>25%</th>\n",
       "      <td>1994.000000</td>\n",
       "      <td>47.000000</td>\n",
       "      <td>1198.000000</td>\n",
       "      <td>68.000000</td>\n",
       "      <td>1191.000000</td>\n",
       "      <td>57.000000</td>\n",
       "      <td>0.000000</td>\n",
       "    </tr>\n",
       "    <tr>\n",
       "      <th>50%</th>\n",
       "      <td>2002.000000</td>\n",
       "      <td>78.000000</td>\n",
       "      <td>1284.000000</td>\n",
       "      <td>76.000000</td>\n",
       "      <td>1280.000000</td>\n",
       "      <td>64.000000</td>\n",
       "      <td>0.000000</td>\n",
       "    </tr>\n",
       "    <tr>\n",
       "      <th>75%</th>\n",
       "      <td>2010.000000</td>\n",
       "      <td>103.000000</td>\n",
       "      <td>1379.000000</td>\n",
       "      <td>84.000000</td>\n",
       "      <td>1375.000000</td>\n",
       "      <td>72.000000</td>\n",
       "      <td>0.000000</td>\n",
       "    </tr>\n",
       "    <tr>\n",
       "      <th>max</th>\n",
       "      <td>2016.000000</td>\n",
       "      <td>132.000000</td>\n",
       "      <td>1464.000000</td>\n",
       "      <td>186.000000</td>\n",
       "      <td>1464.000000</td>\n",
       "      <td>150.000000</td>\n",
       "      <td>6.000000</td>\n",
       "    </tr>\n",
       "  </tbody>\n",
       "</table>\n",
       "</div>"
      ],
      "text/plain": [
       "              Season         Daynum          Wteam         Wscore  \\\n",
       "count  145289.000000  145289.000000  145289.000000  145289.000000   \n",
       "mean     2001.574834      75.223816    1286.720646      76.600321   \n",
       "std         9.233342      33.287418     104.570275      12.173033   \n",
       "min      1985.000000       0.000000    1101.000000      34.000000   \n",
       "25%      1994.000000      47.000000    1198.000000      68.000000   \n",
       "50%      2002.000000      78.000000    1284.000000      76.000000   \n",
       "75%      2010.000000     103.000000    1379.000000      84.000000   \n",
       "max      2016.000000     132.000000    1464.000000     186.000000   \n",
       "\n",
       "               Lteam         Lscore          Numot  \n",
       "count  145289.000000  145289.000000  145289.000000  \n",
       "mean     1282.864064      64.497009       0.044387  \n",
       "std       104.829234      11.380625       0.247819  \n",
       "min      1101.000000      20.000000       0.000000  \n",
       "25%      1191.000000      57.000000       0.000000  \n",
       "50%      1280.000000      64.000000       0.000000  \n",
       "75%      1375.000000      72.000000       0.000000  \n",
       "max      1464.000000     150.000000       6.000000  "
      ]
     },
     "execution_count": 10,
     "metadata": {},
     "output_type": "execute_result"
    }
   ],
   "source": [
    "df.describe()"
   ]
  },
  {
   "attachments": {},
   "cell_type": "markdown",
   "metadata": {},
   "source": [
    "Okay, so now let's looking at information that we want to extract from the dataframe. Let's say I wanted to know the max value of a certain column. The function **max()** will show you the maximum values of all columns"
   ]
  },
  {
   "cell_type": "code",
   "execution_count": 11,
   "metadata": {
    "collapsed": false
   },
   "outputs": [
    {
     "data": {
      "text/plain": [
       "Season    2016\n",
       "Daynum     132\n",
       "Wteam     1464\n",
       "Wscore     186\n",
       "Lteam     1464\n",
       "Lscore     150\n",
       "Wloc         N\n",
       "Numot        6\n",
       "dtype: object"
      ]
     },
     "execution_count": 11,
     "metadata": {},
     "output_type": "execute_result"
    }
   ],
   "source": [
    "df.max()"
   ]
  },
  {
   "attachments": {},
   "cell_type": "markdown",
   "metadata": {},
   "source": [
    "Then, if you'd like to specifically get the max value for a particular column, you pass in the name of the column using the bracket indexing operator"
   ]
  },
  {
   "cell_type": "code",
   "execution_count": 12,
   "metadata": {
    "collapsed": false
   },
   "outputs": [
    {
     "data": {
      "text/plain": [
       "186"
      ]
     },
     "execution_count": 12,
     "metadata": {},
     "output_type": "execute_result"
    }
   ],
   "source": [
    "df['Wscore'].max()"
   ]
  },
  {
   "attachments": {},
   "cell_type": "markdown",
   "metadata": {},
   "source": [
    "If you'd like to find the mean of the Losing teams' score. "
   ]
  },
  {
   "cell_type": "code",
   "execution_count": 13,
   "metadata": {
    "collapsed": false
   },
   "outputs": [
    {
     "data": {
      "text/plain": [
       "64.49700940883343"
      ]
     },
     "execution_count": 13,
     "metadata": {},
     "output_type": "execute_result"
    }
   ],
   "source": [
    "df['Lscore'].mean()"
   ]
  },
  {
   "attachments": {},
   "cell_type": "markdown",
   "metadata": {},
   "source": [
    "But what if that's not enough? Let's say we want to actually see the game(row) where this max score happened. We can call the **argmax()** function to identify the row index"
   ]
  },
  {
   "cell_type": "code",
   "execution_count": 14,
   "metadata": {
    "collapsed": false
   },
   "outputs": [
    {
     "data": {
      "text/plain": [
       "24970"
      ]
     },
     "execution_count": 14,
     "metadata": {},
     "output_type": "execute_result"
    }
   ],
   "source": [
    "df['Wscore'].argmax()"
   ]
  },
  {
   "attachments": {},
   "cell_type": "markdown",
   "metadata": {},
   "source": [
    "One of the most useful functions that you can call on certain columns in a dataframe is the **value_counts()** function. It shows how many times each item appears in the column. This particular command shows the number of games in each season"
   ]
  },
  {
   "cell_type": "code",
   "execution_count": 15,
   "metadata": {
    "collapsed": false
   },
   "outputs": [
    {
     "data": {
      "text/plain": [
       "Season\n",
       "2016    5369\n",
       "2014    5362\n",
       "2015    5354\n",
       "2013    5320\n",
       "2010    5263\n",
       "2012    5253\n",
       "2009    5249\n",
       "2011    5246\n",
       "2008    5163\n",
       "2007    5043\n",
       "2006    4757\n",
       "2005    4675\n",
       "2003    4616\n",
       "2004    4571\n",
       "2002    4555\n",
       "2000    4519\n",
       "2001    4467\n",
       "1999    4222\n",
       "1998    4167\n",
       "1997    4155\n",
       "1992    4127\n",
       "1991    4123\n",
       "1996    4122\n",
       "1995    4077\n",
       "1994    4060\n",
       "1990    4045\n",
       "1989    4037\n",
       "1993    3982\n",
       "1988    3955\n",
       "1987    3915\n",
       "1986    3783\n",
       "1985    3737\n",
       "Name: count, dtype: int64"
      ]
     },
     "execution_count": 15,
     "metadata": {},
     "output_type": "execute_result"
    }
   ],
   "source": [
    "df['Season'].value_counts()"
   ]
  },
  {
   "attachments": {},
   "cell_type": "markdown",
   "metadata": {},
   "source": [
    "**Q**: How many unique seasons are there in the dataset? Use the nunique() function."
   ]
  },
  {
   "cell_type": "code",
   "execution_count": 16,
   "metadata": {},
   "outputs": [
    {
     "name": "stdout",
     "output_type": "stream",
     "text": [
      "The number of unique seasons in the dataset is: 32\n"
     ]
    }
   ],
   "source": [
    "# Find the number of unique seasons\n",
    "unique_seasons = df['Season'].nunique()\n",
    "\n",
    "# Print the results as a sentence\n",
    "print(f\"The number of unique seasons in the dataset is: {unique_seasons}\")"
   ]
  },
  {
   "attachments": {},
   "cell_type": "markdown",
   "metadata": {},
   "source": [
    "**Q**: Find the team with the most wins. Use the value_counts() function on the Wteam column."
   ]
  },
  {
   "cell_type": "code",
   "execution_count": 17,
   "metadata": {},
   "outputs": [
    {
     "data": {
      "text/plain": [
       "(1181, 819)"
      ]
     },
     "execution_count": 17,
     "metadata": {},
     "output_type": "execute_result"
    }
   ],
   "source": [
    "# Find the team with the most wins\n",
    "most_wins = df['Wteam'].value_counts().idxmax()  # Team with the most wins\n",
    "wins_count = df['Wteam'].value_counts().max()    # Number of wins for that team\n",
    "\n",
    "#Display the resuluts as (most wins, team wins)\n",
    "most_wins, wins_count\n"
   ]
  },
  {
   "attachments": {},
   "cell_type": "markdown",
   "metadata": {},
   "source": [
    "# Acessing Values"
   ]
  },
  {
   "attachments": {},
   "cell_type": "markdown",
   "metadata": {},
   "source": [
    "Then, in order to get attributes about the game, we need to use the **iloc[]** function. Iloc is definitely one of the more important functions. The main idea is that you want to use it whenever you have the integer index of a certain row that you want to access. As per Pandas documentation, iloc is an \"integer-location based indexing for selection by position.\""
   ]
  },
  {
   "cell_type": "code",
   "execution_count": 18,
   "metadata": {
    "collapsed": false
   },
   "outputs": [
    {
     "data": {
      "text/html": [
       "<div>\n",
       "<style scoped>\n",
       "    .dataframe tbody tr th:only-of-type {\n",
       "        vertical-align: middle;\n",
       "    }\n",
       "\n",
       "    .dataframe tbody tr th {\n",
       "        vertical-align: top;\n",
       "    }\n",
       "\n",
       "    .dataframe thead th {\n",
       "        text-align: right;\n",
       "    }\n",
       "</style>\n",
       "<table border=\"1\" class=\"dataframe\">\n",
       "  <thead>\n",
       "    <tr style=\"text-align: right;\">\n",
       "      <th></th>\n",
       "      <th>Season</th>\n",
       "      <th>Daynum</th>\n",
       "      <th>Wteam</th>\n",
       "      <th>Wscore</th>\n",
       "      <th>Lteam</th>\n",
       "      <th>Lscore</th>\n",
       "      <th>Wloc</th>\n",
       "      <th>Numot</th>\n",
       "    </tr>\n",
       "  </thead>\n",
       "  <tbody>\n",
       "    <tr>\n",
       "      <th>24970</th>\n",
       "      <td>1991</td>\n",
       "      <td>68</td>\n",
       "      <td>1258</td>\n",
       "      <td>186</td>\n",
       "      <td>1109</td>\n",
       "      <td>140</td>\n",
       "      <td>H</td>\n",
       "      <td>0</td>\n",
       "    </tr>\n",
       "  </tbody>\n",
       "</table>\n",
       "</div>"
      ],
      "text/plain": [
       "       Season  Daynum  Wteam  Wscore  Lteam  Lscore Wloc  Numot\n",
       "24970    1991      68   1258     186   1109     140    H      0"
      ]
     },
     "execution_count": 18,
     "metadata": {},
     "output_type": "execute_result"
    }
   ],
   "source": [
    "df.iloc[[df['Wscore'].argmax()]]"
   ]
  },
  {
   "attachments": {},
   "cell_type": "markdown",
   "metadata": {},
   "source": [
    "Let's take this a step further. Let's say you want to know the game with the highest scoring winning team (this is what we just calculated), but you then want to know how many points the losing team scored. "
   ]
  },
  {
   "cell_type": "code",
   "execution_count": 19,
   "metadata": {
    "collapsed": false
   },
   "outputs": [
    {
     "data": {
      "text/plain": [
       "24970    140\n",
       "Name: Lscore, dtype: int64"
      ]
     },
     "execution_count": 19,
     "metadata": {},
     "output_type": "execute_result"
    }
   ],
   "source": [
    "df.iloc[[df['Wscore'].argmax()]]['Lscore']"
   ]
  },
  {
   "attachments": {},
   "cell_type": "markdown",
   "metadata": {},
   "source": [
    "When you see data displayed in the above format, you're dealing with a Pandas **Series** object, not a dataframe object."
   ]
  },
  {
   "cell_type": "code",
   "execution_count": 20,
   "metadata": {
    "collapsed": false
   },
   "outputs": [
    {
     "data": {
      "text/plain": [
       "pandas.core.series.Series"
      ]
     },
     "execution_count": 20,
     "metadata": {},
     "output_type": "execute_result"
    }
   ],
   "source": [
    "type(df.iloc[[df['Wscore'].argmax()]]['Lscore'])"
   ]
  },
  {
   "cell_type": "code",
   "execution_count": 21,
   "metadata": {
    "collapsed": false
   },
   "outputs": [
    {
     "data": {
      "text/plain": [
       "pandas.core.frame.DataFrame"
      ]
     },
     "execution_count": 21,
     "metadata": {},
     "output_type": "execute_result"
    }
   ],
   "source": [
    "type(df.iloc[[df['Wscore'].argmax()]])"
   ]
  },
  {
   "attachments": {},
   "cell_type": "markdown",
   "metadata": {},
   "source": [
    "The following is a summary of the 3 data structures in Pandas (Haven't ever really used Panels yet)\n",
    "\n",
    "![](DataStructures.png)"
   ]
  },
  {
   "attachments": {},
   "cell_type": "markdown",
   "metadata": {},
   "source": [
    "When you want to access values in a Series, you'll want to just treat the Series like a Python dictionary, so you'd access the value according to its key (which is normally an integer index)"
   ]
  },
  {
   "cell_type": "code",
   "execution_count": 22,
   "metadata": {
    "collapsed": false
   },
   "outputs": [
    {
     "data": {
      "text/plain": [
       "140"
      ]
     },
     "execution_count": 22,
     "metadata": {},
     "output_type": "execute_result"
    }
   ],
   "source": [
    "df.iloc[[df['Wscore'].argmax()]]['Lscore'][24970]"
   ]
  },
  {
   "attachments": {},
   "cell_type": "markdown",
   "metadata": {},
   "source": [
    "The other really important function in Pandas is the **loc** function. Contrary to iloc, which is an integer based indexing, loc is a \"Purely label-location based indexer for selection by label\". Since all the games are ordered from 0 to 145288, iloc and loc are going to be pretty interchangable in this type of dataset"
   ]
  },
  {
   "cell_type": "code",
   "execution_count": 23,
   "metadata": {
    "collapsed": false
   },
   "outputs": [
    {
     "data": {
      "text/html": [
       "<div>\n",
       "<style scoped>\n",
       "    .dataframe tbody tr th:only-of-type {\n",
       "        vertical-align: middle;\n",
       "    }\n",
       "\n",
       "    .dataframe tbody tr th {\n",
       "        vertical-align: top;\n",
       "    }\n",
       "\n",
       "    .dataframe thead th {\n",
       "        text-align: right;\n",
       "    }\n",
       "</style>\n",
       "<table border=\"1\" class=\"dataframe\">\n",
       "  <thead>\n",
       "    <tr style=\"text-align: right;\">\n",
       "      <th></th>\n",
       "      <th>Season</th>\n",
       "      <th>Daynum</th>\n",
       "      <th>Wteam</th>\n",
       "      <th>Wscore</th>\n",
       "      <th>Lteam</th>\n",
       "      <th>Lscore</th>\n",
       "      <th>Wloc</th>\n",
       "      <th>Numot</th>\n",
       "    </tr>\n",
       "  </thead>\n",
       "  <tbody>\n",
       "    <tr>\n",
       "      <th>0</th>\n",
       "      <td>1985</td>\n",
       "      <td>20</td>\n",
       "      <td>1228</td>\n",
       "      <td>81</td>\n",
       "      <td>1328</td>\n",
       "      <td>64</td>\n",
       "      <td>N</td>\n",
       "      <td>0</td>\n",
       "    </tr>\n",
       "    <tr>\n",
       "      <th>1</th>\n",
       "      <td>1985</td>\n",
       "      <td>25</td>\n",
       "      <td>1106</td>\n",
       "      <td>77</td>\n",
       "      <td>1354</td>\n",
       "      <td>70</td>\n",
       "      <td>H</td>\n",
       "      <td>0</td>\n",
       "    </tr>\n",
       "    <tr>\n",
       "      <th>2</th>\n",
       "      <td>1985</td>\n",
       "      <td>25</td>\n",
       "      <td>1112</td>\n",
       "      <td>63</td>\n",
       "      <td>1223</td>\n",
       "      <td>56</td>\n",
       "      <td>H</td>\n",
       "      <td>0</td>\n",
       "    </tr>\n",
       "  </tbody>\n",
       "</table>\n",
       "</div>"
      ],
      "text/plain": [
       "   Season  Daynum  Wteam  Wscore  Lteam  Lscore Wloc  Numot\n",
       "0    1985      20   1228      81   1328      64    N      0\n",
       "1    1985      25   1106      77   1354      70    H      0\n",
       "2    1985      25   1112      63   1223      56    H      0"
      ]
     },
     "execution_count": 23,
     "metadata": {},
     "output_type": "execute_result"
    }
   ],
   "source": [
    "df.iloc[:3]"
   ]
  },
  {
   "cell_type": "code",
   "execution_count": 24,
   "metadata": {
    "collapsed": false
   },
   "outputs": [
    {
     "data": {
      "text/html": [
       "<div>\n",
       "<style scoped>\n",
       "    .dataframe tbody tr th:only-of-type {\n",
       "        vertical-align: middle;\n",
       "    }\n",
       "\n",
       "    .dataframe tbody tr th {\n",
       "        vertical-align: top;\n",
       "    }\n",
       "\n",
       "    .dataframe thead th {\n",
       "        text-align: right;\n",
       "    }\n",
       "</style>\n",
       "<table border=\"1\" class=\"dataframe\">\n",
       "  <thead>\n",
       "    <tr style=\"text-align: right;\">\n",
       "      <th></th>\n",
       "      <th>Season</th>\n",
       "      <th>Daynum</th>\n",
       "      <th>Wteam</th>\n",
       "      <th>Wscore</th>\n",
       "      <th>Lteam</th>\n",
       "      <th>Lscore</th>\n",
       "      <th>Wloc</th>\n",
       "      <th>Numot</th>\n",
       "    </tr>\n",
       "  </thead>\n",
       "  <tbody>\n",
       "    <tr>\n",
       "      <th>0</th>\n",
       "      <td>1985</td>\n",
       "      <td>20</td>\n",
       "      <td>1228</td>\n",
       "      <td>81</td>\n",
       "      <td>1328</td>\n",
       "      <td>64</td>\n",
       "      <td>N</td>\n",
       "      <td>0</td>\n",
       "    </tr>\n",
       "    <tr>\n",
       "      <th>1</th>\n",
       "      <td>1985</td>\n",
       "      <td>25</td>\n",
       "      <td>1106</td>\n",
       "      <td>77</td>\n",
       "      <td>1354</td>\n",
       "      <td>70</td>\n",
       "      <td>H</td>\n",
       "      <td>0</td>\n",
       "    </tr>\n",
       "    <tr>\n",
       "      <th>2</th>\n",
       "      <td>1985</td>\n",
       "      <td>25</td>\n",
       "      <td>1112</td>\n",
       "      <td>63</td>\n",
       "      <td>1223</td>\n",
       "      <td>56</td>\n",
       "      <td>H</td>\n",
       "      <td>0</td>\n",
       "    </tr>\n",
       "    <tr>\n",
       "      <th>3</th>\n",
       "      <td>1985</td>\n",
       "      <td>25</td>\n",
       "      <td>1165</td>\n",
       "      <td>70</td>\n",
       "      <td>1432</td>\n",
       "      <td>54</td>\n",
       "      <td>H</td>\n",
       "      <td>0</td>\n",
       "    </tr>\n",
       "  </tbody>\n",
       "</table>\n",
       "</div>"
      ],
      "text/plain": [
       "   Season  Daynum  Wteam  Wscore  Lteam  Lscore Wloc  Numot\n",
       "0    1985      20   1228      81   1328      64    N      0\n",
       "1    1985      25   1106      77   1354      70    H      0\n",
       "2    1985      25   1112      63   1223      56    H      0\n",
       "3    1985      25   1165      70   1432      54    H      0"
      ]
     },
     "execution_count": 24,
     "metadata": {},
     "output_type": "execute_result"
    }
   ],
   "source": [
    "df.loc[:3]"
   ]
  },
  {
   "attachments": {},
   "cell_type": "markdown",
   "metadata": {},
   "source": [
    "Notice the slight difference in that iloc is exclusive of the second number, while loc is inclusive. "
   ]
  },
  {
   "attachments": {},
   "cell_type": "markdown",
   "metadata": {},
   "source": [
    "Below is an example of how you can use loc to acheive the same task as we did previously with iloc"
   ]
  },
  {
   "cell_type": "code",
   "execution_count": 25,
   "metadata": {
    "collapsed": false
   },
   "outputs": [
    {
     "data": {
      "text/plain": [
       "140"
      ]
     },
     "execution_count": 25,
     "metadata": {},
     "output_type": "execute_result"
    }
   ],
   "source": [
    "df.loc[df['Wscore'].argmax(), 'Lscore']"
   ]
  },
  {
   "attachments": {},
   "cell_type": "markdown",
   "metadata": {},
   "source": [
    "A faster version uses the **at()** function. At() is really useful wheneever you know the row label and the column label of the particular value that you want to get. "
   ]
  },
  {
   "cell_type": "code",
   "execution_count": 26,
   "metadata": {
    "collapsed": false
   },
   "outputs": [
    {
     "data": {
      "text/plain": [
       "140"
      ]
     },
     "execution_count": 26,
     "metadata": {},
     "output_type": "execute_result"
    }
   ],
   "source": [
    "df.at[df['Wscore'].argmax(), 'Lscore']"
   ]
  },
  {
   "attachments": {},
   "cell_type": "markdown",
   "metadata": {},
   "source": [
    "If you'd like to see more discussion on how loc and iloc are different, check out this great Stack Overflow post: http://stackoverflow.com/questions/31593201/pandas-iloc-vs-ix-vs-loc-explanation. Just remember that **iloc looks at position** and **loc looks at labels**. Loc becomes very important when your row labels aren't integers. "
   ]
  },
  {
   "attachments": {},
   "cell_type": "markdown",
   "metadata": {},
   "source": [
    "# Sorting"
   ]
  },
  {
   "attachments": {},
   "cell_type": "markdown",
   "metadata": {},
   "source": [
    "Let's say that we want to sort the dataframe in increasing order for the scores of the losing team"
   ]
  },
  {
   "cell_type": "code",
   "execution_count": 27,
   "metadata": {
    "collapsed": false,
    "scrolled": true
   },
   "outputs": [
    {
     "data": {
      "text/html": [
       "<div>\n",
       "<style scoped>\n",
       "    .dataframe tbody tr th:only-of-type {\n",
       "        vertical-align: middle;\n",
       "    }\n",
       "\n",
       "    .dataframe tbody tr th {\n",
       "        vertical-align: top;\n",
       "    }\n",
       "\n",
       "    .dataframe thead th {\n",
       "        text-align: right;\n",
       "    }\n",
       "</style>\n",
       "<table border=\"1\" class=\"dataframe\">\n",
       "  <thead>\n",
       "    <tr style=\"text-align: right;\">\n",
       "      <th></th>\n",
       "      <th>Season</th>\n",
       "      <th>Daynum</th>\n",
       "      <th>Wteam</th>\n",
       "      <th>Wscore</th>\n",
       "      <th>Lteam</th>\n",
       "      <th>Lscore</th>\n",
       "      <th>Wloc</th>\n",
       "      <th>Numot</th>\n",
       "    </tr>\n",
       "  </thead>\n",
       "  <tbody>\n",
       "    <tr>\n",
       "      <th>100027</th>\n",
       "      <td>2008</td>\n",
       "      <td>66</td>\n",
       "      <td>1203</td>\n",
       "      <td>49</td>\n",
       "      <td>1387</td>\n",
       "      <td>20</td>\n",
       "      <td>H</td>\n",
       "      <td>0</td>\n",
       "    </tr>\n",
       "    <tr>\n",
       "      <th>49310</th>\n",
       "      <td>1997</td>\n",
       "      <td>66</td>\n",
       "      <td>1157</td>\n",
       "      <td>61</td>\n",
       "      <td>1204</td>\n",
       "      <td>21</td>\n",
       "      <td>H</td>\n",
       "      <td>0</td>\n",
       "    </tr>\n",
       "    <tr>\n",
       "      <th>89021</th>\n",
       "      <td>2006</td>\n",
       "      <td>44</td>\n",
       "      <td>1284</td>\n",
       "      <td>41</td>\n",
       "      <td>1343</td>\n",
       "      <td>21</td>\n",
       "      <td>A</td>\n",
       "      <td>0</td>\n",
       "    </tr>\n",
       "    <tr>\n",
       "      <th>85042</th>\n",
       "      <td>2005</td>\n",
       "      <td>66</td>\n",
       "      <td>1131</td>\n",
       "      <td>73</td>\n",
       "      <td>1216</td>\n",
       "      <td>22</td>\n",
       "      <td>H</td>\n",
       "      <td>0</td>\n",
       "    </tr>\n",
       "    <tr>\n",
       "      <th>103660</th>\n",
       "      <td>2009</td>\n",
       "      <td>26</td>\n",
       "      <td>1326</td>\n",
       "      <td>59</td>\n",
       "      <td>1359</td>\n",
       "      <td>22</td>\n",
       "      <td>H</td>\n",
       "      <td>0</td>\n",
       "    </tr>\n",
       "  </tbody>\n",
       "</table>\n",
       "</div>"
      ],
      "text/plain": [
       "        Season  Daynum  Wteam  Wscore  Lteam  Lscore Wloc  Numot\n",
       "100027    2008      66   1203      49   1387      20    H      0\n",
       "49310     1997      66   1157      61   1204      21    H      0\n",
       "89021     2006      44   1284      41   1343      21    A      0\n",
       "85042     2005      66   1131      73   1216      22    H      0\n",
       "103660    2009      26   1326      59   1359      22    H      0"
      ]
     },
     "execution_count": 27,
     "metadata": {},
     "output_type": "execute_result"
    }
   ],
   "source": [
    "df.sort_values('Lscore').head()"
   ]
  },
  {
   "attachments": {},
   "cell_type": "markdown",
   "metadata": {},
   "source": [
    "**Q**: Make three dataframes that are sorted by season, winning team, and winning score respectively. Then, Using iloc, select the rows from index 100 to 200 and the columns for season, winning team, and winning score, respectively. "
   ]
  },
  {
   "cell_type": "code",
   "execution_count": 28,
   "metadata": {},
   "outputs": [],
   "source": [
    "# Sort by Season\n",
    "df_sorted_by_season = df.sort_values(by='Season')\n",
    "\n",
    "# Sort by Winning Team (Wteam)\n",
    "df_sorted_by_wteam = df.sort_values(by='Wteam')\n",
    "\n",
    "# Sort by Winning Score (Wscore)\n",
    "df_sorted_by_wscore = df.sort_values(by='Wscore')\n",
    "\n",
    "#Select rows from index 100-200 for the above dataframes\n",
    "# Subset from df_sorted_by_season\n",
    "subset_season = df_sorted_by_season.iloc[100:201, [df.columns.get_loc('Season'), df.columns.get_loc('Wteam'), df.columns.get_loc('Wscore')]]\n",
    "\n",
    "# Subset from df_sorted_by_wteam\n",
    "subset_wteam = df_sorted_by_wteam.iloc[100:201, [df.columns.get_loc('Season'), df.columns.get_loc('Wteam'), df.columns.get_loc('Wscore')]]\n",
    "\n",
    "# Subset from df_sorted_by_wscore\n",
    "subset_wscore = df_sorted_by_wscore.iloc[100:201, [df.columns.get_loc('Season'), df.columns.get_loc('Wteam'), df.columns.get_loc('Wscore')]]\n",
    "\n"
   ]
  },
  {
   "attachments": {},
   "cell_type": "markdown",
   "metadata": {},
   "source": [
    "**Q**: From these three subsets you obtained above, find the season and winning team for the game with the highest winning score."
   ]
  },
  {
   "cell_type": "code",
   "execution_count": 29,
   "metadata": {},
   "outputs": [
    {
     "name": "stdout",
     "output_type": "stream",
     "text": [
      "\n",
      "Game with the highest winning score:\n",
      "Season: 2006, Winning Team: 1416\n"
     ]
    }
   ],
   "source": [
    "# Find the row with the highest winning score in subset_wscore\n",
    "highest_score_row = subset_wscore.loc[subset_wscore['Wscore'].idxmax()]\n",
    "\n",
    "# Extract the season and winning team\n",
    "season_highest_score = highest_score_row['Season']\n",
    "winning_team_highest_score = highest_score_row['Wteam']\n",
    "\n",
    "season_highest_score, winning_team_highest_score\n",
    "\n",
    "#Display the results in a proper context and make it understandable:\n",
    "print(\"\\nGame with the highest winning score:\")\n",
    "print(f\"Season: {season_highest_score}, Winning Team: {winning_team_highest_score}\")"
   ]
  },
  {
   "attachments": {},
   "cell_type": "markdown",
   "metadata": {},
   "source": [
    "# Filtering Rows Conditionally"
   ]
  },
  {
   "attachments": {},
   "cell_type": "markdown",
   "metadata": {},
   "source": [
    "Now, let's say we want to find all of the rows that satisy a particular condition. For example, I want to find all of the games where the winning team scored more than 150 points. The idea behind this command is you want to access the column 'Wscore' of the dataframe df (df['Wscore']), find which entries are above 150 (df['Wscore'] > 150), and then returns only those specific rows in a dataframe format (df[df['Wscore'] > 150])."
   ]
  },
  {
   "cell_type": "code",
   "execution_count": 30,
   "metadata": {
    "collapsed": false
   },
   "outputs": [
    {
     "data": {
      "text/html": [
       "<div>\n",
       "<style scoped>\n",
       "    .dataframe tbody tr th:only-of-type {\n",
       "        vertical-align: middle;\n",
       "    }\n",
       "\n",
       "    .dataframe tbody tr th {\n",
       "        vertical-align: top;\n",
       "    }\n",
       "\n",
       "    .dataframe thead th {\n",
       "        text-align: right;\n",
       "    }\n",
       "</style>\n",
       "<table border=\"1\" class=\"dataframe\">\n",
       "  <thead>\n",
       "    <tr style=\"text-align: right;\">\n",
       "      <th></th>\n",
       "      <th>Season</th>\n",
       "      <th>Daynum</th>\n",
       "      <th>Wteam</th>\n",
       "      <th>Wscore</th>\n",
       "      <th>Lteam</th>\n",
       "      <th>Lscore</th>\n",
       "      <th>Wloc</th>\n",
       "      <th>Numot</th>\n",
       "    </tr>\n",
       "  </thead>\n",
       "  <tbody>\n",
       "    <tr>\n",
       "      <th>5269</th>\n",
       "      <td>1986</td>\n",
       "      <td>75</td>\n",
       "      <td>1258</td>\n",
       "      <td>151</td>\n",
       "      <td>1109</td>\n",
       "      <td>107</td>\n",
       "      <td>H</td>\n",
       "      <td>0</td>\n",
       "    </tr>\n",
       "    <tr>\n",
       "      <th>12046</th>\n",
       "      <td>1988</td>\n",
       "      <td>40</td>\n",
       "      <td>1328</td>\n",
       "      <td>152</td>\n",
       "      <td>1147</td>\n",
       "      <td>84</td>\n",
       "      <td>H</td>\n",
       "      <td>0</td>\n",
       "    </tr>\n",
       "    <tr>\n",
       "      <th>12355</th>\n",
       "      <td>1988</td>\n",
       "      <td>52</td>\n",
       "      <td>1328</td>\n",
       "      <td>151</td>\n",
       "      <td>1173</td>\n",
       "      <td>99</td>\n",
       "      <td>N</td>\n",
       "      <td>0</td>\n",
       "    </tr>\n",
       "    <tr>\n",
       "      <th>16040</th>\n",
       "      <td>1989</td>\n",
       "      <td>40</td>\n",
       "      <td>1328</td>\n",
       "      <td>152</td>\n",
       "      <td>1331</td>\n",
       "      <td>122</td>\n",
       "      <td>H</td>\n",
       "      <td>0</td>\n",
       "    </tr>\n",
       "    <tr>\n",
       "      <th>16853</th>\n",
       "      <td>1989</td>\n",
       "      <td>68</td>\n",
       "      <td>1258</td>\n",
       "      <td>162</td>\n",
       "      <td>1109</td>\n",
       "      <td>144</td>\n",
       "      <td>A</td>\n",
       "      <td>0</td>\n",
       "    </tr>\n",
       "    <tr>\n",
       "      <th>17867</th>\n",
       "      <td>1989</td>\n",
       "      <td>92</td>\n",
       "      <td>1258</td>\n",
       "      <td>181</td>\n",
       "      <td>1109</td>\n",
       "      <td>150</td>\n",
       "      <td>H</td>\n",
       "      <td>0</td>\n",
       "    </tr>\n",
       "    <tr>\n",
       "      <th>19653</th>\n",
       "      <td>1990</td>\n",
       "      <td>30</td>\n",
       "      <td>1328</td>\n",
       "      <td>173</td>\n",
       "      <td>1109</td>\n",
       "      <td>101</td>\n",
       "      <td>H</td>\n",
       "      <td>0</td>\n",
       "    </tr>\n",
       "    <tr>\n",
       "      <th>19971</th>\n",
       "      <td>1990</td>\n",
       "      <td>38</td>\n",
       "      <td>1258</td>\n",
       "      <td>152</td>\n",
       "      <td>1109</td>\n",
       "      <td>137</td>\n",
       "      <td>A</td>\n",
       "      <td>0</td>\n",
       "    </tr>\n",
       "    <tr>\n",
       "      <th>20022</th>\n",
       "      <td>1990</td>\n",
       "      <td>40</td>\n",
       "      <td>1116</td>\n",
       "      <td>166</td>\n",
       "      <td>1109</td>\n",
       "      <td>101</td>\n",
       "      <td>H</td>\n",
       "      <td>0</td>\n",
       "    </tr>\n",
       "    <tr>\n",
       "      <th>22145</th>\n",
       "      <td>1990</td>\n",
       "      <td>97</td>\n",
       "      <td>1258</td>\n",
       "      <td>157</td>\n",
       "      <td>1362</td>\n",
       "      <td>115</td>\n",
       "      <td>H</td>\n",
       "      <td>0</td>\n",
       "    </tr>\n",
       "    <tr>\n",
       "      <th>23582</th>\n",
       "      <td>1991</td>\n",
       "      <td>26</td>\n",
       "      <td>1318</td>\n",
       "      <td>152</td>\n",
       "      <td>1258</td>\n",
       "      <td>123</td>\n",
       "      <td>N</td>\n",
       "      <td>0</td>\n",
       "    </tr>\n",
       "    <tr>\n",
       "      <th>24341</th>\n",
       "      <td>1991</td>\n",
       "      <td>47</td>\n",
       "      <td>1328</td>\n",
       "      <td>172</td>\n",
       "      <td>1258</td>\n",
       "      <td>112</td>\n",
       "      <td>H</td>\n",
       "      <td>0</td>\n",
       "    </tr>\n",
       "    <tr>\n",
       "      <th>24970</th>\n",
       "      <td>1991</td>\n",
       "      <td>68</td>\n",
       "      <td>1258</td>\n",
       "      <td>186</td>\n",
       "      <td>1109</td>\n",
       "      <td>140</td>\n",
       "      <td>H</td>\n",
       "      <td>0</td>\n",
       "    </tr>\n",
       "    <tr>\n",
       "      <th>25656</th>\n",
       "      <td>1991</td>\n",
       "      <td>84</td>\n",
       "      <td>1106</td>\n",
       "      <td>151</td>\n",
       "      <td>1212</td>\n",
       "      <td>97</td>\n",
       "      <td>H</td>\n",
       "      <td>0</td>\n",
       "    </tr>\n",
       "    <tr>\n",
       "      <th>28687</th>\n",
       "      <td>1992</td>\n",
       "      <td>54</td>\n",
       "      <td>1261</td>\n",
       "      <td>159</td>\n",
       "      <td>1319</td>\n",
       "      <td>86</td>\n",
       "      <td>H</td>\n",
       "      <td>0</td>\n",
       "    </tr>\n",
       "    <tr>\n",
       "      <th>35023</th>\n",
       "      <td>1993</td>\n",
       "      <td>112</td>\n",
       "      <td>1380</td>\n",
       "      <td>155</td>\n",
       "      <td>1341</td>\n",
       "      <td>91</td>\n",
       "      <td>A</td>\n",
       "      <td>0</td>\n",
       "    </tr>\n",
       "    <tr>\n",
       "      <th>40060</th>\n",
       "      <td>1995</td>\n",
       "      <td>32</td>\n",
       "      <td>1375</td>\n",
       "      <td>156</td>\n",
       "      <td>1341</td>\n",
       "      <td>114</td>\n",
       "      <td>H</td>\n",
       "      <td>0</td>\n",
       "    </tr>\n",
       "    <tr>\n",
       "      <th>52600</th>\n",
       "      <td>1998</td>\n",
       "      <td>33</td>\n",
       "      <td>1395</td>\n",
       "      <td>153</td>\n",
       "      <td>1410</td>\n",
       "      <td>87</td>\n",
       "      <td>H</td>\n",
       "      <td>0</td>\n",
       "    </tr>\n",
       "  </tbody>\n",
       "</table>\n",
       "</div>"
      ],
      "text/plain": [
       "       Season  Daynum  Wteam  Wscore  Lteam  Lscore Wloc  Numot\n",
       "5269     1986      75   1258     151   1109     107    H      0\n",
       "12046    1988      40   1328     152   1147      84    H      0\n",
       "12355    1988      52   1328     151   1173      99    N      0\n",
       "16040    1989      40   1328     152   1331     122    H      0\n",
       "16853    1989      68   1258     162   1109     144    A      0\n",
       "17867    1989      92   1258     181   1109     150    H      0\n",
       "19653    1990      30   1328     173   1109     101    H      0\n",
       "19971    1990      38   1258     152   1109     137    A      0\n",
       "20022    1990      40   1116     166   1109     101    H      0\n",
       "22145    1990      97   1258     157   1362     115    H      0\n",
       "23582    1991      26   1318     152   1258     123    N      0\n",
       "24341    1991      47   1328     172   1258     112    H      0\n",
       "24970    1991      68   1258     186   1109     140    H      0\n",
       "25656    1991      84   1106     151   1212      97    H      0\n",
       "28687    1992      54   1261     159   1319      86    H      0\n",
       "35023    1993     112   1380     155   1341      91    A      0\n",
       "40060    1995      32   1375     156   1341     114    H      0\n",
       "52600    1998      33   1395     153   1410      87    H      0"
      ]
     },
     "execution_count": 30,
     "metadata": {},
     "output_type": "execute_result"
    }
   ],
   "source": [
    "df[df['Wscore'] > 150]"
   ]
  },
  {
   "attachments": {},
   "cell_type": "markdown",
   "metadata": {},
   "source": [
    "This also works if you have multiple conditions. Let's say we want to find out when the winning team scores more than 150 points and when the losing team scores below 100. "
   ]
  },
  {
   "cell_type": "code",
   "execution_count": 31,
   "metadata": {
    "collapsed": false
   },
   "outputs": [
    {
     "data": {
      "text/html": [
       "<div>\n",
       "<style scoped>\n",
       "    .dataframe tbody tr th:only-of-type {\n",
       "        vertical-align: middle;\n",
       "    }\n",
       "\n",
       "    .dataframe tbody tr th {\n",
       "        vertical-align: top;\n",
       "    }\n",
       "\n",
       "    .dataframe thead th {\n",
       "        text-align: right;\n",
       "    }\n",
       "</style>\n",
       "<table border=\"1\" class=\"dataframe\">\n",
       "  <thead>\n",
       "    <tr style=\"text-align: right;\">\n",
       "      <th></th>\n",
       "      <th>Season</th>\n",
       "      <th>Daynum</th>\n",
       "      <th>Wteam</th>\n",
       "      <th>Wscore</th>\n",
       "      <th>Lteam</th>\n",
       "      <th>Lscore</th>\n",
       "      <th>Wloc</th>\n",
       "      <th>Numot</th>\n",
       "    </tr>\n",
       "  </thead>\n",
       "  <tbody>\n",
       "    <tr>\n",
       "      <th>12046</th>\n",
       "      <td>1988</td>\n",
       "      <td>40</td>\n",
       "      <td>1328</td>\n",
       "      <td>152</td>\n",
       "      <td>1147</td>\n",
       "      <td>84</td>\n",
       "      <td>H</td>\n",
       "      <td>0</td>\n",
       "    </tr>\n",
       "    <tr>\n",
       "      <th>12355</th>\n",
       "      <td>1988</td>\n",
       "      <td>52</td>\n",
       "      <td>1328</td>\n",
       "      <td>151</td>\n",
       "      <td>1173</td>\n",
       "      <td>99</td>\n",
       "      <td>N</td>\n",
       "      <td>0</td>\n",
       "    </tr>\n",
       "    <tr>\n",
       "      <th>25656</th>\n",
       "      <td>1991</td>\n",
       "      <td>84</td>\n",
       "      <td>1106</td>\n",
       "      <td>151</td>\n",
       "      <td>1212</td>\n",
       "      <td>97</td>\n",
       "      <td>H</td>\n",
       "      <td>0</td>\n",
       "    </tr>\n",
       "    <tr>\n",
       "      <th>28687</th>\n",
       "      <td>1992</td>\n",
       "      <td>54</td>\n",
       "      <td>1261</td>\n",
       "      <td>159</td>\n",
       "      <td>1319</td>\n",
       "      <td>86</td>\n",
       "      <td>H</td>\n",
       "      <td>0</td>\n",
       "    </tr>\n",
       "    <tr>\n",
       "      <th>35023</th>\n",
       "      <td>1993</td>\n",
       "      <td>112</td>\n",
       "      <td>1380</td>\n",
       "      <td>155</td>\n",
       "      <td>1341</td>\n",
       "      <td>91</td>\n",
       "      <td>A</td>\n",
       "      <td>0</td>\n",
       "    </tr>\n",
       "    <tr>\n",
       "      <th>52600</th>\n",
       "      <td>1998</td>\n",
       "      <td>33</td>\n",
       "      <td>1395</td>\n",
       "      <td>153</td>\n",
       "      <td>1410</td>\n",
       "      <td>87</td>\n",
       "      <td>H</td>\n",
       "      <td>0</td>\n",
       "    </tr>\n",
       "  </tbody>\n",
       "</table>\n",
       "</div>"
      ],
      "text/plain": [
       "       Season  Daynum  Wteam  Wscore  Lteam  Lscore Wloc  Numot\n",
       "12046    1988      40   1328     152   1147      84    H      0\n",
       "12355    1988      52   1328     151   1173      99    N      0\n",
       "25656    1991      84   1106     151   1212      97    H      0\n",
       "28687    1992      54   1261     159   1319      86    H      0\n",
       "35023    1993     112   1380     155   1341      91    A      0\n",
       "52600    1998      33   1395     153   1410      87    H      0"
      ]
     },
     "execution_count": 31,
     "metadata": {},
     "output_type": "execute_result"
    }
   ],
   "source": [
    "df[(df['Wscore'] > 150) & (df['Lscore'] < 100)]"
   ]
  },
  {
   "attachments": {},
   "cell_type": "markdown",
   "metadata": {},
   "source": [
    "**Q**: Create a new column in the DataFrame called 'ScoreDifference' which is the absolute difference between the winning score and the losing score. Filter the DataFrame to only include games where the 'ScoreDifference' is greater than the average 'ScoreDifference' for all games."
   ]
  },
  {
   "cell_type": "code",
   "execution_count": 32,
   "metadata": {},
   "outputs": [
    {
     "name": "stdout",
     "output_type": "stream",
     "text": [
      "New column 'ScoreDifference' has been added to the DataFrame.\n",
      "Average ScoreDifference: 12.10\n",
      "\n",
      "Filtered DataFrame contains 57227 games where 'ScoreDifference' > average.\n",
      "\n",
      "Updated DataFrame with 'ScoreDifference':\n",
      " Season  Daynum  Wteam  Wscore  Lteam  Lscore Wloc  Numot  ScoreDifference\n",
      "   1985      20   1228      81   1328      64    N      0               17\n",
      "   1985      25   1106      77   1354      70    H      0                7\n",
      "   1985      25   1112      63   1223      56    H      0                7\n",
      "   1985      25   1165      70   1432      54    H      0               16\n",
      "   1985      25   1192      86   1447      74    H      0               12\n",
      "   1985      25   1218      79   1337      78    H      0                1\n",
      "   1985      25   1228      64   1226      44    N      0               20\n",
      "   1985      25   1242      58   1268      56    N      0                2\n",
      "   1985      25   1260      98   1133      80    H      0               18\n",
      "   1985      25   1305      97   1424      89    H      0                8\n"
     ]
    }
   ],
   "source": [
    "# Create a new column 'ScoreDifference' which is the absolute difference between winning score (Wscore) and losing score (Lscore)\n",
    "df['ScoreDifference'] = abs(df['Wscore'] - df['Lscore'])\n",
    "print(\"New column 'ScoreDifference' has been added to the DataFrame.\")\n",
    "\n",
    "#Filter the dataframe in order to calculate the average 'ScoreDifference'\n",
    "average_score_difference = df['ScoreDifference'].mean()\n",
    "print(f\"Average ScoreDifference: {average_score_difference:.2f}\")\n",
    "\n",
    "# Filter the DataFrame to only include games with 'ScoreDifference' greater than the average\n",
    "filtered_df = df[df['ScoreDifference'] > average_score_difference]\n",
    "print(f\"\\nFiltered DataFrame contains {len(filtered_df)} games where 'ScoreDifference' > average.\")\n",
    "\n",
    "# Display the table with the new column\n",
    "print(\"\\nUpdated DataFrame with 'ScoreDifference':\")\n",
    "print(df.head(10).to_string(index=False))  # Display the first 10 rows as a table"
   ]
  },
  {
   "attachments": {},
   "cell_type": "markdown",
   "metadata": {},
   "source": [
    "**Q**: From this filtered DataFrame, find the season and teams involved in the game with the highest 'ScoreDifference'."
   ]
  },
  {
   "cell_type": "code",
   "execution_count": 33,
   "metadata": {},
   "outputs": [
    {
     "name": "stdout",
     "output_type": "stream",
     "text": [
      "\n",
      "Game with the highest ScoreDifference:\n",
      "Season: 1996, Winning Team: 1409, Losing Team: 1341, ScoreDifference: 91\n"
     ]
    }
   ],
   "source": [
    "# Find the row with the highest 'ScoreDifference'\n",
    "highest_score_diff_row = filtered_df.loc[filtered_df['ScoreDifference'].idxmax()]\n",
    "\n",
    "# Extract season and teams involved\n",
    "season_highest_diff = highest_score_diff_row['Season']\n",
    "winning_team = highest_score_diff_row['Wteam']\n",
    "losing_team = highest_score_diff_row['Lteam']\n",
    "highest_score_diff = highest_score_diff_row['ScoreDifference']\n",
    "\n",
    "#Display the results in a sentence\n",
    "print(f\"\\nGame with the highest ScoreDifference:\")\n",
    "print(f\"Season: {season_highest_diff}, Winning Team: {winning_team}, Losing Team: {losing_team}, ScoreDifference: {highest_score_diff}\")\n"
   ]
  },
  {
   "attachments": {},
   "cell_type": "markdown",
   "metadata": {},
   "source": [
    "# Grouping"
   ]
  },
  {
   "attachments": {},
   "cell_type": "markdown",
   "metadata": {},
   "source": [
    "Another important function in Pandas is **groupby()**. This is a function that allows you to group entries by certain attributes (e.g Grouping entries by Wteam number) and then perform operations on them. The following function groups all the entries (games) with the same Wteam number and finds the mean for each group. "
   ]
  },
  {
   "cell_type": "code",
   "execution_count": 34,
   "metadata": {
    "collapsed": false
   },
   "outputs": [
    {
     "data": {
      "text/plain": [
       "Wteam\n",
       "1101    78.111111\n",
       "1102    69.893204\n",
       "1103    75.839768\n",
       "1104    75.825944\n",
       "1105    74.960894\n",
       "Name: Wscore, dtype: float64"
      ]
     },
     "execution_count": 34,
     "metadata": {},
     "output_type": "execute_result"
    }
   ],
   "source": [
    "df.groupby('Wteam')['Wscore'].mean().head()"
   ]
  },
  {
   "attachments": {},
   "cell_type": "markdown",
   "metadata": {},
   "source": [
    "This next command groups all the games with the same Wteam number and finds where how many times that specific team won at home, on the road, or at a neutral site"
   ]
  },
  {
   "cell_type": "code",
   "execution_count": 35,
   "metadata": {
    "collapsed": false,
    "scrolled": false
   },
   "outputs": [
    {
     "data": {
      "text/plain": [
       "Wteam  Wloc\n",
       "1101   H        12\n",
       "       A         3\n",
       "       N         3\n",
       "1102   H       204\n",
       "       A        73\n",
       "       N        32\n",
       "1103   H       324\n",
       "       A       153\n",
       "       N        41\n",
       "Name: count, dtype: int64"
      ]
     },
     "execution_count": 35,
     "metadata": {},
     "output_type": "execute_result"
    }
   ],
   "source": [
    "df.groupby('Wteam')['Wloc'].value_counts().head(9)"
   ]
  },
  {
   "attachments": {},
   "cell_type": "markdown",
   "metadata": {},
   "source": [
    "Each dataframe has a **values** attribute which is useful because it basically displays your dataframe in a numpy array style format"
   ]
  },
  {
   "cell_type": "code",
   "execution_count": 36,
   "metadata": {
    "collapsed": false
   },
   "outputs": [
    {
     "data": {
      "text/plain": [
       "array([[1985, 20, 1228, ..., 'N', 0, 17],\n",
       "       [1985, 25, 1106, ..., 'H', 0, 7],\n",
       "       [1985, 25, 1112, ..., 'H', 0, 7],\n",
       "       ...,\n",
       "       [2016, 132, 1246, ..., 'N', 1, 5],\n",
       "       [2016, 132, 1277, ..., 'N', 0, 4],\n",
       "       [2016, 132, 1386, ..., 'N', 0, 13]], dtype=object)"
      ]
     },
     "execution_count": 36,
     "metadata": {},
     "output_type": "execute_result"
    }
   ],
   "source": [
    "df.values"
   ]
  },
  {
   "attachments": {},
   "cell_type": "markdown",
   "metadata": {},
   "source": [
    "Now, you can simply just access elements like you would in an array. "
   ]
  },
  {
   "cell_type": "code",
   "execution_count": 37,
   "metadata": {
    "collapsed": false
   },
   "outputs": [
    {
     "data": {
      "text/plain": [
       "1985"
      ]
     },
     "execution_count": 37,
     "metadata": {},
     "output_type": "execute_result"
    }
   ],
   "source": [
    "df.values[0][0]"
   ]
  },
  {
   "attachments": {},
   "cell_type": "markdown",
   "metadata": {},
   "source": [
    "**Q**: Group the DataFrame by season and find the average winning score for each season."
   ]
  },
  {
   "cell_type": "code",
   "execution_count": 38,
   "metadata": {},
   "outputs": [
    {
     "name": "stdout",
     "output_type": "stream",
     "text": [
      "Average Winning Score per Season:\n",
      "Season\n",
      "1985    74.723040\n",
      "1986    74.813640\n",
      "1987    77.993870\n",
      "1988    79.773704\n",
      "1989    81.728511\n",
      "1990    80.846477\n",
      "1991    82.733932\n",
      "1992    79.992004\n",
      "1993    79.508790\n",
      "1994    81.160345\n",
      "1995    80.096149\n",
      "1996    78.205483\n",
      "1997    76.300842\n",
      "1998    77.229902\n",
      "1999    76.043581\n",
      "2000    76.310467\n",
      "2001    77.088650\n",
      "2002    76.963557\n",
      "2003    75.795061\n",
      "2004    74.971122\n",
      "2005    74.693690\n",
      "2006    74.587555\n",
      "2007    74.829467\n",
      "2008    74.962425\n",
      "2009    74.033721\n",
      "2010    74.652480\n",
      "2011    74.374190\n",
      "2012    73.379973\n",
      "2013    72.840789\n",
      "2014    76.101268\n",
      "2015    72.680799\n",
      "2016    78.295958\n"
     ]
    }
   ],
   "source": [
    "# Group by season and calculate the average winning score\n",
    "average_winning_score = df.groupby('Season')['Wscore'].mean()\n",
    "\n",
    "#Display the season and the average winning score for that season\n",
    "print(\"Average Winning Score per Season:\")\n",
    "print(average_winning_score.to_string())\n"
   ]
  },
  {
   "attachments": {},
   "cell_type": "markdown",
   "metadata": {},
   "source": [
    "**Q**: Group the DataFrame by winning team and find the maximum winning score for each team across all seasons."
   ]
  },
  {
   "cell_type": "code",
   "execution_count": 39,
   "metadata": {},
   "outputs": [
    {
     "name": "stdout",
     "output_type": "stream",
     "text": [
      "\n",
      "Maximum Winning Score per Team:\n",
      "Wteam\n",
      "1101     95\n",
      "1102    111\n",
      "1103    109\n",
      "1104    114\n",
      "1105    114\n",
      "1106    151\n",
      "1107    108\n",
      "1108    120\n",
      "1109    137\n",
      "1110    128\n",
      "1111    111\n",
      "1112    133\n",
      "1113    123\n",
      "1114    125\n",
      "1115    106\n",
      "1116    166\n",
      "1117    116\n",
      "1118     80\n",
      "1119    104\n",
      "1120    120\n",
      "1121    103\n",
      "1122    115\n",
      "1123    115\n",
      "1124    116\n",
      "1125    107\n",
      "1126    112\n",
      "1127     94\n",
      "1128     92\n",
      "1129    116\n",
      "1130    123\n",
      "1131    110\n",
      "1132    136\n",
      "1133    139\n",
      "1134    101\n",
      "1135    115\n",
      "1136    103\n",
      "1137    116\n",
      "1138    110\n",
      "1139    144\n",
      "1140    128\n",
      "1141    115\n",
      "1142    122\n",
      "1143    121\n",
      "1144    104\n",
      "1145    108\n",
      "1146    112\n",
      "1147    124\n",
      "1148    129\n",
      "1149    114\n",
      "1150    117\n",
      "1151    125\n",
      "1152    128\n",
      "1153    116\n",
      "1154    112\n",
      "1155    120\n",
      "1156    121\n",
      "1157    115\n",
      "1158    116\n",
      "1159    111\n",
      "1160    132\n",
      "1161    108\n",
      "1162    108\n",
      "1163    130\n",
      "1164    110\n",
      "1165    108\n",
      "1166    111\n",
      "1167     98\n",
      "1168    117\n",
      "1169    123\n",
      "1170    110\n",
      "1171    105\n",
      "1172    110\n",
      "1173    118\n",
      "1174    113\n",
      "1175    124\n",
      "1176    103\n",
      "1177    125\n",
      "1178    115\n",
      "1179    109\n",
      "1180    110\n",
      "1181    130\n",
      "1182    129\n",
      "1183    107\n",
      "1184    114\n",
      "1185    120\n",
      "1186    118\n",
      "1187    109\n",
      "1188    100\n",
      "1189    112\n",
      "1190    112\n",
      "1191    136\n",
      "1192    110\n",
      "1193    113\n",
      "1194    107\n",
      "1195    111\n",
      "1196    131\n",
      "1197    130\n",
      "1198    118\n",
      "1199    133\n",
      "1200    110\n",
      "1201    114\n",
      "1202    104\n",
      "1203    119\n",
      "1204    119\n",
      "1205    105\n",
      "1206    148\n",
      "1207    123\n",
      "1208    124\n",
      "1209    109\n",
      "1210    135\n",
      "1211    121\n",
      "1212    116\n",
      "1213     99\n",
      "1214    104\n",
      "1215    107\n",
      "1216    122\n",
      "1217    111\n",
      "1218    108\n",
      "1219    115\n",
      "1220    105\n",
      "1221    130\n",
      "1222    112\n",
      "1223    106\n",
      "1224    116\n",
      "1225    116\n",
      "1226    115\n",
      "1227    112\n",
      "1228    127\n",
      "1229    107\n",
      "1230    110\n",
      "1231    118\n",
      "1232    102\n",
      "1233    126\n",
      "1234    126\n",
      "1235    123\n",
      "1236    107\n",
      "1237    108\n",
      "1238    118\n",
      "1239    123\n",
      "1240    105\n",
      "1241    118\n",
      "1242    150\n",
      "1243    115\n",
      "1244    102\n",
      "1245    116\n",
      "1246    129\n",
      "1247    133\n",
      "1248    111\n",
      "1249    143\n",
      "1250    109\n",
      "1251    122\n",
      "1252    104\n",
      "1253    117\n",
      "1254    129\n",
      "1255    110\n",
      "1256    126\n",
      "1257    132\n",
      "1258    186\n",
      "1259    109\n",
      "1260    127\n",
      "1261    159\n",
      "1262    108\n",
      "1263    127\n",
      "1264    111\n",
      "1265    128\n",
      "1266    114\n",
      "1267    127\n",
      "1268    138\n",
      "1269    108\n",
      "1270    113\n",
      "1271    117\n",
      "1272    124\n",
      "1273    117\n",
      "1274    115\n",
      "1275    110\n",
      "1276    127\n",
      "1277    121\n",
      "1278    116\n",
      "1279    113\n",
      "1280    123\n",
      "1281    129\n",
      "1282    128\n",
      "1283    110\n",
      "1284    124\n",
      "1285    109\n",
      "1286    121\n",
      "1287    124\n",
      "1288    106\n",
      "1289     77\n",
      "1290    117\n",
      "1291    114\n",
      "1292    132\n",
      "1293    117\n",
      "1294    105\n",
      "1295    104\n",
      "1296    115\n",
      "1297     96\n",
      "1298    116\n",
      "1299    124\n",
      "1300     94\n",
      "1301    135\n",
      "1302    111\n",
      "1303    108\n",
      "1304    117\n",
      "1305    120\n",
      "1306    113\n",
      "1307    136\n",
      "1308    128\n",
      "1309    110\n",
      "1310    119\n",
      "1311    112\n",
      "1312     96\n",
      "1313    110\n",
      "1314    129\n",
      "1315    101\n",
      "1316    107\n",
      "1317    119\n",
      "1318    152\n",
      "1319    109\n",
      "1320    126\n",
      "1321    108\n",
      "1322    123\n",
      "1323    126\n",
      "1324    114\n",
      "1325    122\n",
      "1326    121\n",
      "1327     99\n",
      "1328    173\n",
      "1329    124\n",
      "1330    120\n",
      "1331    117\n",
      "1332    116\n",
      "1333    106\n",
      "1334    114\n",
      "1335    105\n",
      "1336    129\n",
      "1337    131\n",
      "1338    117\n",
      "1339    114\n",
      "1340    108\n",
      "1341    106\n",
      "1342     95\n",
      "1343    104\n",
      "1344    116\n",
      "1345    119\n",
      "1346    104\n",
      "1347    114\n",
      "1348    116\n",
      "1349    113\n",
      "1350    108\n",
      "1351    113\n",
      "1352    110\n",
      "1353    119\n",
      "1354    115\n",
      "1355    105\n",
      "1356    114\n",
      "1357    133\n",
      "1358    112\n",
      "1359    110\n",
      "1360    113\n",
      "1361    138\n",
      "1362    123\n",
      "1363     98\n",
      "1364    109\n",
      "1365    101\n",
      "1366     87\n",
      "1367     98\n",
      "1368    112\n",
      "1369    125\n",
      "1370    111\n",
      "1371    134\n",
      "1372    112\n",
      "1373    119\n",
      "1374    121\n",
      "1375    156\n",
      "1376    113\n",
      "1377    116\n",
      "1378    117\n",
      "1379    127\n",
      "1380    155\n",
      "1381    140\n",
      "1382    112\n",
      "1383    142\n",
      "1384    111\n",
      "1385    135\n",
      "1386    114\n",
      "1387    116\n",
      "1388    121\n",
      "1389    106\n",
      "1390    129\n",
      "1391    116\n",
      "1392    104\n",
      "1393    135\n",
      "1394    107\n",
      "1395    153\n",
      "1396    110\n",
      "1397    124\n",
      "1398    109\n",
      "1399    113\n",
      "1400    124\n",
      "1401    117\n",
      "1402    111\n",
      "1403    128\n",
      "1404    104\n",
      "1405    119\n",
      "1406    122\n",
      "1407    140\n",
      "1408    122\n",
      "1409    141\n",
      "1410    113\n",
      "1411    119\n",
      "1412    118\n",
      "1413    108\n",
      "1414    121\n",
      "1415    106\n",
      "1416    113\n",
      "1417    149\n",
      "1418    128\n",
      "1419    125\n",
      "1420    115\n",
      "1421    114\n",
      "1422    104\n",
      "1423    115\n",
      "1424    142\n",
      "1425    118\n",
      "1426    125\n",
      "1427    132\n",
      "1428    109\n",
      "1429    119\n",
      "1430    123\n",
      "1431    112\n",
      "1432     97\n",
      "1433    112\n",
      "1434    118\n",
      "1435    116\n",
      "1436    110\n",
      "1437    110\n",
      "1438    128\n",
      "1439    141\n",
      "1440    116\n",
      "1441    125\n",
      "1442    121\n",
      "1443    121\n",
      "1444    119\n",
      "1445    105\n",
      "1446     81\n",
      "1447    122\n",
      "1448    120\n",
      "1449    123\n",
      "1450    131\n",
      "1451    119\n",
      "1452    125\n",
      "1453    115\n",
      "1454    117\n",
      "1455    116\n",
      "1456    116\n",
      "1457    109\n",
      "1458    115\n",
      "1459    105\n",
      "1460    136\n",
      "1461    112\n",
      "1462    125\n",
      "1463    105\n",
      "1464    115\n"
     ]
    }
   ],
   "source": [
    "# Group by winning team and calculate the maximum winning score\n",
    "max_winning_score_by_team = df.groupby('Wteam')['Wscore'].max()\n",
    "\n",
    "#Display the results of the maximum winning score per team and their winning score\n",
    "print(\"\\nMaximum Winning Score per Team:\")\n",
    "print(max_winning_score_by_team.to_string())\n"
   ]
  },
  {
   "attachments": {},
   "cell_type": "markdown",
   "metadata": {},
   "source": [
    "**Q**: Group the DataFrame by both season and winning team. Find the team with the highest average winning score for each season."
   ]
  },
  {
   "cell_type": "code",
   "execution_count": 40,
   "metadata": {},
   "outputs": [
    {
     "name": "stdout",
     "output_type": "stream",
     "text": [
      "\n",
      "Team with Highest Average Winning Score per Season:\n",
      " Season  Wteam     Wscore\n",
      "   1985   1328  92.800000\n",
      "   1986   1109  91.200000\n",
      "   1987   1380  95.875000\n",
      "   1988   1258 111.750000\n",
      "   1989   1258 117.315789\n",
      "   1990   1258 126.347826\n",
      "   1991   1380 112.312500\n",
      "   1992   1380  99.642857\n",
      "   1993   1380 101.875000\n",
      "   1994   1380 106.583333\n",
      "   1995   1206 102.833333\n",
      "   1996   1206 103.600000\n",
      "   1997   1254  94.142857\n",
      "   1998   1395 101.153846\n",
      "   1999   1317  95.750000\n",
      "   2000   1395  95.647059\n",
      "   2001   1395  99.315789\n",
      "   2002   1242  92.888889\n",
      "   2003   1395  88.222222\n",
      "   2004   1194  92.142857\n",
      "   2005   1311  91.333333\n",
      "   2006   1190  89.533333\n",
      "   2007   1440  99.400000\n",
      "   2008   1440  94.500000\n",
      "   2009   1377  96.200000\n",
      "   2010   1440  95.000000\n",
      "   2011   1449  90.130435\n",
      "   2012   1370  87.400000\n",
      "   2013   1377  86.500000\n",
      "   2014   1322  92.600000\n",
      "   2015   1322  90.733333\n",
      "   2016   1146  97.142857\n"
     ]
    }
   ],
   "source": [
    "# Group by both season and winning team, calculate average winning score\n",
    "average_score_by_season_team = df.groupby(['Season', 'Wteam'])['Wscore'].mean()\n",
    "\n",
    "# Reset index to make it easier to find the team with the highest average score\n",
    "average_score_by_season_team = average_score_by_season_team.reset_index()\n",
    "\n",
    "# Find the team with the highest average score for each season\n",
    "highest_avg_score_team = average_score_by_season_team.loc[average_score_by_season_team.groupby('Season')['Wscore'].idxmax()]\n",
    "\n",
    "#Display the results as an understandable table for every season\n",
    "print(\"\\nTeam with Highest Average Winning Score per Season:\")\n",
    "print(highest_avg_score_team.to_string(index=False))\n"
   ]
  },
  {
   "attachments": {},
   "cell_type": "markdown",
   "metadata": {},
   "source": [
    "**Q**: Create a new DataFrame that counts the number of wins for each team in each season. This will involve grouping by both season and winning team, and then using the count() function."
   ]
  },
  {
   "cell_type": "code",
   "execution_count": 41,
   "metadata": {},
   "outputs": [
    {
     "name": "stdout",
     "output_type": "stream",
     "text": [
      "Top 5 Rows:\n",
      " Season  Wteam  WinCount\n",
      "   1985   1102         5\n",
      "   1985   1103         9\n",
      "   1985   1104        21\n",
      "   1985   1106        10\n",
      "   1985   1108        19\n",
      "\n",
      "Bottom 5 Rows:\n",
      " Season  Wteam  WinCount\n",
      "   2016   1460        20\n",
      "   2016   1461        12\n",
      "   2016   1462        27\n",
      "   2016   1463        21\n",
      "   2016   1464         9\n"
     ]
    }
   ],
   "source": [
    "# Define win counts by grouping by 'Season' and 'Wteam', and counting the number of games\n",
    "win_counts = df.groupby(['Season', 'Wteam']).size().reset_index(name='WinCount')\n",
    "\n",
    "# Display the first 5 rows from the top\n",
    "print(\"Top 5 Rows:\")\n",
    "print(win_counts.head().to_string(index=False))\n",
    "\n",
    "# Display the last 5 rows from the bottom\n",
    "print(\"\\nBottom 5 Rows:\")\n",
    "print(win_counts.tail().to_string(index=False))\n",
    "\n"
   ]
  },
  {
   "attachments": {},
   "cell_type": "markdown",
   "metadata": {},
   "source": [
    "**Q**: For each season, find the team with the most wins. This will involve creating a DataFrame similar to the one in task 5, and then using the idxmax() function for each season."
   ]
  },
  {
   "cell_type": "code",
   "execution_count": 42,
   "metadata": {},
   "outputs": [
    {
     "name": "stdout",
     "output_type": "stream",
     "text": [
      "\n",
      "Team with Most Wins per Season:\n",
      " Season  Wteam  WinCount\n",
      "   1985   1385        27\n",
      "   1986   1181        32\n",
      "   1987   1424        33\n",
      "   1988   1112        31\n",
      "   1989   1328        28\n",
      "   1990   1247        29\n",
      "   1991   1116        30\n",
      "   1992   1181        28\n",
      "   1993   1231        28\n",
      "   1994   1163        27\n",
      "   1995   1116        26\n",
      "   1996   1269        31\n",
      "   1997   1242        31\n",
      "   1998   1242        33\n",
      "   1999   1181        32\n",
      "   2000   1409        29\n",
      "   2001   1181        29\n",
      "   2002   1153        30\n",
      "   2003   1166        29\n",
      "   2004   1390        29\n",
      "   2005   1228        32\n",
      "   2006   1181        30\n",
      "   2007   1242        30\n",
      "   2008   1272        33\n",
      "   2009   1272        31\n",
      "   2010   1242        32\n",
      "   2011   1242        32\n",
      "   2012   1246        32\n",
      "   2013   1211        30\n",
      "   2014   1455        33\n",
      "   2015   1246        34\n",
      "   2016   1242        29\n"
     ]
    }
   ],
   "source": [
    "# Find the team with the most wins in each season\n",
    "most_wins_team_per_season = win_counts.loc[win_counts.groupby('Season')['WinCount'].idxmax()]\n",
    "\n",
    "#Display every season with its associated winning team and the number of wins\n",
    "print(\"\\nTeam with Most Wins per Season:\")\n",
    "print(most_wins_team_per_season.to_string(index=False))\n"
   ]
  },
  {
   "attachments": {},
   "cell_type": "markdown",
   "metadata": {},
   "source": [
    "**Q**: Group the DataFrame by losing team and find the average losing score for each team across all seasons. Compare this with the average winning score for each team from task 3. Are there teams that have a higher average losing score than winning score?"
   ]
  },
  {
   "cell_type": "code",
   "execution_count": 43,
   "metadata": {},
   "outputs": [
    {
     "name": "stdout",
     "output_type": "stream",
     "text": [
      "Average Losing Score per Team:\n",
      "Lteam\n",
      "1101    60.586207\n",
      "1102    59.201507\n",
      "1103    64.117347\n",
      "1104    64.374317\n",
      "1105    61.675373\n",
      "1106    66.284165\n",
      "1107    60.831418\n",
      "1108    65.429825\n",
      "1109    79.535433\n",
      "1110    62.217659\n",
      "1111    66.707527\n",
      "1112    70.055319\n",
      "1113    66.475983\n",
      "1114    64.728606\n",
      "1115    57.530831\n",
      "1116    67.219718\n",
      "1117    64.657080\n",
      "1118    64.190476\n",
      "1119    60.003419\n",
      "1120    66.269978\n",
      "1121    65.078740\n",
      "1122    67.954936\n",
      "1123    62.585082\n",
      "1124    65.868304\n",
      "1125    68.454054\n",
      "1126    61.830846\n",
      "1127    58.003509\n",
      "1128    60.153846\n",
      "1129    63.602597\n",
      "1130    64.616558\n",
      "1131    62.898104\n",
      "1132    62.498911\n",
      "1133    62.018908\n",
      "1134    64.420000\n",
      "1135    61.935238\n",
      "1136    59.802469\n",
      "1137    63.961340\n",
      "1138    65.140704\n",
      "1139    63.865103\n",
      "1140    68.307692\n",
      "1141    63.852995\n",
      "1142    64.953804\n",
      "1143    65.958869\n",
      "1144    63.331492\n",
      "1145    64.651663\n",
      "1146    64.048780\n",
      "1147    66.796976\n",
      "1148    65.123752\n",
      "1149    64.607143\n",
      "1150    66.436321\n",
      "1151    67.072539\n",
      "1152    64.968182\n",
      "1153    64.132075\n",
      "1154    62.705151\n",
      "1155    64.997590\n",
      "1156    63.807095\n",
      "1157    64.745146\n",
      "1158    62.587719\n",
      "1159    61.667870\n",
      "1160    66.771134\n",
      "1161    63.227166\n",
      "1162    58.686654\n",
      "1163    64.191275\n",
      "1164    62.131356\n",
      "1165    61.121849\n",
      "1166    63.507937\n",
      "1167    63.138365\n",
      "1168    65.853229\n",
      "1169    67.350588\n",
      "1170    62.667347\n",
      "1171    58.850943\n",
      "1172    65.854839\n",
      "1173    65.174447\n",
      "1174    65.015351\n",
      "1175    61.495396\n",
      "1176    60.526316\n",
      "1177    64.215321\n",
      "1178    64.146444\n",
      "1179    62.891144\n",
      "1180    63.903465\n",
      "1181    72.974227\n",
      "1182    66.400000\n",
      "1183    64.025948\n",
      "1184    66.023158\n",
      "1185    63.665992\n",
      "1186    65.128599\n",
      "1187    62.179389\n",
      "1188    62.089744\n",
      "1189    62.302721\n",
      "1190    67.292978\n",
      "1191    63.850780\n",
      "1192    64.927536\n",
      "1193    63.621032\n",
      "1194    64.205128\n",
      "1195    63.750000\n",
      "1196    66.910979\n",
      "1197    63.322751\n",
      "1198    64.551181\n",
      "1199    66.808612\n",
      "1200    62.373665\n",
      "1201    64.830022\n",
      "1202    63.134241\n",
      "1203    65.378251\n",
      "1204    64.966292\n",
      "1205    64.373444\n",
      "1206    67.401376\n",
      "1207    64.805112\n",
      "1208    65.868545\n",
      "1209    67.026531\n",
      "1210    66.295508\n",
      "1211    66.713178\n",
      "1212    64.020168\n",
      "1213    64.411765\n",
      "1214    63.418367\n",
      "1215    68.333333\n",
      "1216    62.684307\n",
      "1217    64.450801\n",
      "1218    65.966292\n",
      "1219    63.965116\n",
      "1220    64.002165\n",
      "1221    63.815556\n",
      "1222    66.912946\n",
      "1223    64.893004\n",
      "1224    62.216393\n",
      "1225    62.030612\n",
      "1226    64.198182\n",
      "1227    64.419291\n",
      "1228    63.478916\n",
      "1229    62.386256\n",
      "1230    69.777778\n",
      "1231    64.289941\n",
      "1232    61.366541\n",
      "1233    68.229469\n",
      "1234    66.257732\n",
      "1235    67.812030\n",
      "1236    61.512931\n",
      "1237    63.108772\n",
      "1238    65.005906\n",
      "1239    66.653543\n",
      "1240    64.077135\n",
      "1241    63.942149\n",
      "1242    68.587302\n",
      "1243    64.417690\n",
      "1244    61.325000\n",
      "1245    62.994805\n",
      "1246    68.675214\n",
      "1247    64.824786\n",
      "1248    64.848126\n",
      "1249    66.450304\n",
      "1250    65.406814\n",
      "1251    63.746696\n",
      "1252    68.105023\n",
      "1253    65.607296\n",
      "1254    70.270633\n",
      "1255    65.176245\n",
      "1256    62.176322\n",
      "1257    66.233974\n",
      "1258    67.485348\n",
      "1259    64.027027\n",
      "1260    63.792844\n",
      "1261    65.790754\n",
      "1262    60.358491\n",
      "1263    63.709924\n",
      "1264    63.580508\n",
      "1265    64.147860\n",
      "1266    64.186630\n",
      "1267    68.275785\n",
      "1268    69.379121\n",
      "1269    64.770732\n",
      "1270    66.065173\n",
      "1271    61.904545\n",
      "1272    67.453333\n",
      "1273    65.075728\n",
      "1274    64.198547\n",
      "1275    60.618824\n",
      "1276    63.611570\n",
      "1277    64.939799\n",
      "1278    63.812933\n",
      "1279    65.479167\n",
      "1280    63.549296\n",
      "1281    67.678571\n",
      "1282    64.015556\n",
      "1283    62.074742\n",
      "1284    61.754065\n",
      "1285    65.657061\n",
      "1286    66.347921\n",
      "1287    66.203593\n",
      "1288    64.827181\n",
      "1289    56.476190\n",
      "1290    66.674510\n",
      "1291    64.745140\n",
      "1292    65.072682\n",
      "1293    67.260417\n",
      "1294    65.563725\n",
      "1295    65.508197\n",
      "1296    63.573585\n",
      "1297    61.720000\n",
      "1298    62.183673\n",
      "1299    62.893069\n",
      "1300    58.007042\n",
      "1301    66.163895\n",
      "1302    69.862319\n",
      "1303    70.730769\n",
      "1304    64.320542\n",
      "1305    67.896635\n",
      "1306    60.933764\n",
      "1307    65.237952\n",
      "1308    66.424242\n",
      "1309    62.955000\n",
      "1310    67.168357\n",
      "1311    64.036832\n",
      "1312    58.794737\n",
      "1313    64.210000\n",
      "1314    71.602410\n",
      "1315    62.697674\n",
      "1316    60.242718\n",
      "1317    69.275194\n",
      "1318    65.133909\n",
      "1319    65.129630\n",
      "1320    62.600000\n",
      "1321    59.280423\n",
      "1322    69.219262\n",
      "1323    65.810959\n",
      "1324    68.127572\n",
      "1325    65.947631\n",
      "1326    65.731214\n",
      "1327    64.684211\n",
      "1328    68.637288\n",
      "1329    65.920904\n",
      "1330    65.000000\n",
      "1331    68.026110\n",
      "1332    66.875895\n",
      "1333    62.969880\n",
      "1334    63.970522\n",
      "1335    62.787724\n",
      "1336    61.544330\n",
      "1337    66.040000\n",
      "1338    65.668605\n",
      "1339    65.135283\n",
      "1340    66.505618\n",
      "1341    65.175194\n",
      "1342    58.051813\n",
      "1343    53.822951\n",
      "1344    68.607981\n",
      "1345    64.000000\n",
      "1346    68.225926\n",
      "1347    64.203091\n",
      "1348    64.772532\n",
      "1349    62.613678\n",
      "1350    61.576826\n",
      "1351    65.807095\n",
      "1352    64.779915\n",
      "1353    63.569288\n",
      "1354    62.995736\n",
      "1355    65.829114\n",
      "1356    64.599515\n",
      "1357    67.262658\n",
      "1358    65.662708\n",
      "1359    61.203629\n",
      "1360    63.642857\n",
      "1361    64.774049\n",
      "1362    66.192308\n",
      "1363    61.880719\n",
      "1364    64.046569\n",
      "1365    63.677852\n",
      "1366    54.977273\n",
      "1367    61.397590\n",
      "1368    63.692008\n",
      "1369    66.526066\n",
      "1370    66.559055\n",
      "1371    65.468384\n",
      "1372    63.893617\n",
      "1373    67.312808\n",
      "1374    63.380000\n",
      "1375    65.172093\n",
      "1376    63.386609\n",
      "1377    66.520661\n",
      "1378    61.360531\n",
      "1379    64.470183\n",
      "1380    67.029954\n",
      "1381    64.748899\n",
      "1382    64.898438\n",
      "1383    65.386408\n",
      "1384    63.416517\n",
      "1385    64.659367\n",
      "1386    65.281553\n",
      "1387    59.786885\n",
      "1388    62.480818\n",
      "1389    61.959223\n",
      "1390    66.272727\n",
      "1391    65.195167\n",
      "1392    59.164062\n",
      "1393    67.678431\n",
      "1394    61.450000\n",
      "1395    65.744813\n",
      "1396    62.210526\n",
      "1397    66.364508\n",
      "1398    67.592727\n",
      "1399    69.110629\n",
      "1400    70.151515\n",
      "1401    64.605727\n",
      "1402    66.045098\n",
      "1403    64.537961\n",
      "1404    64.904328\n",
      "1405    62.660297\n",
      "1406    62.852190\n",
      "1407    69.974286\n",
      "1408    62.888361\n",
      "1409    65.732044\n",
      "1410    62.673145\n",
      "1411    65.094070\n",
      "1412    65.809783\n",
      "1413    63.689956\n",
      "1414    66.857143\n",
      "1415    59.398601\n",
      "1416    65.863830\n",
      "1417    69.090032\n",
      "1418    67.608796\n",
      "1419    63.498925\n",
      "1420    63.031079\n",
      "1421    65.198675\n",
      "1422    64.425532\n",
      "1423    61.643478\n",
      "1424    67.692042\n",
      "1425    65.417722\n",
      "1426    67.968288\n",
      "1427    67.953540\n",
      "1428    61.982353\n",
      "1429    68.528024\n",
      "1430    60.457317\n",
      "1431    64.898630\n",
      "1432    61.000000\n",
      "1433    66.517906\n",
      "1434    63.133971\n",
      "1435    65.502500\n",
      "1436    64.775701\n",
      "1437    65.864407\n",
      "1438    64.182292\n",
      "1439    64.864807\n",
      "1440    69.172794\n",
      "1441    66.722015\n",
      "1442    62.431776\n",
      "1443    67.598916\n",
      "1444    65.453159\n",
      "1445    55.370370\n",
      "1446    60.088235\n",
      "1447    66.259414\n",
      "1448    66.301703\n",
      "1449    66.436490\n",
      "1450    62.901381\n",
      "1451    65.956989\n",
      "1452    65.994565\n",
      "1453    59.645000\n",
      "1454    63.481081\n",
      "1455    61.501229\n",
      "1456    62.526126\n",
      "1457    62.127764\n",
      "1458    61.061798\n",
      "1459    61.484848\n",
      "1460    63.082915\n",
      "1461    64.661972\n",
      "1462    68.216117\n",
      "1463    60.829213\n",
      "1464    65.187063\n",
      "\n",
      "Average Winning Score per Team:\n",
      "Wteam\n",
      "1101    78.111111\n",
      "1102    69.893204\n",
      "1103    75.839768\n",
      "1104    75.825944\n",
      "1105    74.960894\n",
      "1106    76.634518\n",
      "1107    70.804781\n",
      "1108    79.489865\n",
      "1109    90.428571\n",
      "1110    72.141844\n",
      "1111    77.829684\n",
      "1112    82.219839\n",
      "1113    77.926931\n",
      "1114    76.019960\n",
      "1115    68.496599\n",
      "1116    84.521600\n",
      "1117    74.592255\n",
      "1118    66.500000\n",
      "1119    72.388693\n",
      "1120    78.158562\n",
      "1121    75.041667\n",
      "1122    77.977117\n",
      "1123    74.561845\n",
      "1124    78.679039\n",
      "1125    80.121495\n",
      "1126    72.485149\n",
      "1127    69.063694\n",
      "1128    72.044776\n",
      "1129    74.706897\n",
      "1130    77.772358\n",
      "1131    72.609943\n",
      "1132    73.754587\n",
      "1133    74.429175\n",
      "1134    77.520000\n",
      "1135    74.854037\n",
      "1136    74.435897\n",
      "1137    74.000000\n",
      "1138    75.387879\n",
      "1139    72.661512\n",
      "1140    80.070175\n",
      "1141    75.099688\n",
      "1142    75.401747\n",
      "1143    77.177419\n",
      "1144    74.977199\n",
      "1145    74.917258\n",
      "1146    78.387097\n",
      "1147    82.012766\n",
      "1148    75.793003\n",
      "1149    76.343750\n",
      "1150    78.000000\n",
      "1151    77.292398\n",
      "1152    78.360976\n",
      "1153    76.802147\n",
      "1154    74.525292\n",
      "1155    77.242991\n",
      "1156    76.363029\n",
      "1157    75.534946\n",
      "1158    74.436992\n",
      "1159    74.414414\n",
      "1160    79.604966\n",
      "1161    75.271967\n",
      "1162    69.894904\n",
      "1163    79.248895\n",
      "1164    76.463183\n",
      "1165    73.291317\n",
      "1166    76.816926\n",
      "1167    72.207921\n",
      "1168    78.536842\n",
      "1169    79.919732\n",
      "1170    75.094118\n",
      "1171    71.321070\n",
      "1172    77.702170\n",
      "1173    75.300181\n",
      "1174    76.168490\n",
      "1175    73.582133\n",
      "1176    71.456432\n",
      "1177    77.217865\n",
      "1178    74.676471\n",
      "1179    74.336022\n",
      "1180    74.488593\n",
      "1181    84.625153\n",
      "1182    80.791086\n",
      "1183    75.513514\n",
      "1184    76.755155\n",
      "1185    75.733990\n",
      "1186    77.780488\n",
      "1187    73.830861\n",
      "1188    72.901961\n",
      "1189    73.791444\n",
      "1190    80.926778\n",
      "1191    76.277662\n",
      "1192    76.315294\n",
      "1193    72.773973\n",
      "1194    76.637615\n",
      "1195    74.922481\n",
      "1196    79.099379\n",
      "1197    77.930091\n",
      "1198    75.059211\n",
      "1199    79.544256\n",
      "1200    74.541667\n",
      "1201    76.006073\n",
      "1202    74.894737\n",
      "1203    78.000000\n",
      "1204    76.853717\n",
      "1205    74.573171\n",
      "1206    75.982072\n",
      "1207    75.272131\n",
      "1208    77.587121\n",
      "1209    76.316708\n",
      "1210    79.794171\n",
      "1211    79.452489\n",
      "1212    78.814050\n",
      "1213    76.140000\n",
      "1214    73.780781\n",
      "1215    76.351852\n",
      "1216    71.903141\n",
      "1217    73.874680\n",
      "1218    76.337449\n",
      "1219    75.216346\n",
      "1220    74.883227\n",
      "1221    75.839248\n",
      "1222    78.794606\n",
      "1223    76.075000\n",
      "1224    73.720539\n",
      "1225    74.384615\n",
      "1226    77.872054\n",
      "1227    76.528117\n",
      "1228    77.566667\n",
      "1229    72.905482\n",
      "1230    78.540541\n",
      "1231    80.535658\n",
      "1232    71.414698\n",
      "1233    78.609576\n",
      "1234    79.348276\n",
      "1235    79.705989\n",
      "1236    76.500000\n",
      "1237    75.170940\n",
      "1238    75.502427\n",
      "1239    77.574413\n",
      "1240    76.082927\n",
      "1241    75.713974\n",
      "1242    82.526119\n",
      "1243    76.034615\n",
      "1244    75.048780\n",
      "1245    74.586716\n",
      "1246    80.070588\n",
      "1247    78.075789\n",
      "1248    75.776350\n",
      "1249    78.923684\n",
      "1250    75.716792\n",
      "1251    73.627907\n",
      "1252    78.208791\n",
      "1253    77.329621\n",
      "1254    81.061008\n",
      "1255    79.626506\n",
      "1256    76.410985\n",
      "1257    80.145161\n",
      "1258    86.764205\n",
      "1259    75.256983\n",
      "1260    75.856397\n",
      "1261    79.972477\n",
      "1262    74.700000\n",
      "1263    74.802139\n",
      "1264    75.493421\n",
      "1265    75.373810\n",
      "1266    75.716216\n",
      "1267    80.455724\n",
      "1268    81.735537\n",
      "1269    76.089552\n",
      "1270    76.364865\n",
      "1271    73.731278\n",
      "1272    78.881503\n",
      "1273    77.661417\n",
      "1274    76.201195\n",
      "1275    72.309665\n",
      "1276    78.401007\n",
      "1277    76.344828\n",
      "1278    77.244660\n",
      "1279    77.042424\n",
      "1280    76.538462\n",
      "1281    80.438825\n",
      "1282    77.250847\n",
      "1283    73.265957\n",
      "1284    72.331818\n",
      "1285    75.007722\n",
      "1286    78.941624\n",
      "1287    78.679775\n",
      "1288    74.711246\n",
      "1289    71.500000\n",
      "1290    79.887671\n",
      "1291    75.531250\n",
      "1292    76.820041\n",
      "1293    79.685619\n",
      "1294    76.522727\n",
      "1295    75.150538\n",
      "1296    74.469914\n",
      "1297    75.105263\n",
      "1298    76.386139\n",
      "1299    76.282192\n",
      "1300    70.990909\n",
      "1301    79.370968\n",
      "1302    81.145161\n",
      "1303    85.058824\n",
      "1304    76.829412\n",
      "1305    78.488142\n",
      "1306    71.071685\n",
      "1307    77.422292\n",
      "1308    77.987762\n",
      "1309    74.747727\n",
      "1310    78.677632\n",
      "1311    77.412162\n",
      "1312    73.337209\n",
      "1313    74.372624\n",
      "1314    84.898817\n",
      "1315    75.193182\n",
      "1316    75.404959\n",
      "1317    78.305177\n",
      "1318    75.415449\n",
      "1319    77.067227\n",
      "1320    72.930962\n",
      "1321    70.979710\n",
      "1322    80.579235\n",
      "1323    78.000000\n",
      "1324    82.136882\n",
      "1325    76.269871\n",
      "1326    77.237942\n",
      "1327    71.000000\n",
      "1328    84.635958\n",
      "1329    78.463373\n",
      "1330    74.237589\n",
      "1331    78.058685\n",
      "1332    78.501969\n",
      "1333    73.876513\n",
      "1334    73.323144\n",
      "1335    74.253579\n",
      "1336    73.628118\n",
      "1337    77.391949\n",
      "1338    77.822006\n",
      "1339    74.581325\n",
      "1340    78.569565\n",
      "1341    73.660377\n",
      "1342    69.388060\n",
      "1343    66.009488\n",
      "1344    79.691429\n",
      "1345    77.020635\n",
      "1346    76.277778\n",
      "1347    77.409877\n",
      "1348    78.644068\n",
      "1349    74.700288\n",
      "1350    72.702847\n",
      "1351    76.813808\n",
      "1352    74.820569\n",
      "1353    74.792593\n",
      "1354    74.654462\n",
      "1355    76.147929\n",
      "1356    74.813309\n",
      "1357    76.896739\n",
      "1358    76.607792\n",
      "1359    72.084656\n",
      "1360    74.700234\n",
      "1361    74.000000\n",
      "1362    77.521303\n",
      "1363    72.768953\n",
      "1364    73.022822\n",
      "1365    73.065217\n",
      "1366    64.316667\n",
      "1367    73.178218\n",
      "1368    74.410169\n",
      "1369    77.996154\n",
      "1370    73.273684\n",
      "1371    77.938343\n",
      "1372    73.195704\n",
      "1373    79.011029\n",
      "1374    75.090129\n",
      "1375    77.624464\n",
      "1376    75.873444\n",
      "1377    80.550562\n",
      "1378    74.801956\n",
      "1379    75.934783\n",
      "1380    84.983645\n",
      "1381    78.839858\n",
      "1382    75.820896\n",
      "1383    75.689295\n",
      "1384    76.166667\n",
      "1385    74.716390\n",
      "1386    74.831502\n",
      "1387    72.143667\n",
      "1388    75.970356\n",
      "1389    71.380145\n",
      "1390    77.148900\n",
      "1391    76.475073\n",
      "1392    69.637131\n",
      "1393    79.925474\n",
      "1394    75.473684\n",
      "1395    79.765727\n",
      "1396    71.978659\n",
      "1397    78.820513\n",
      "1398    76.493750\n",
      "1399    79.701754\n",
      "1400    80.874233\n",
      "1401    74.948560\n",
      "1402    76.715134\n",
      "1403    78.631799\n",
      "1404    77.529412\n",
      "1405    75.562222\n",
      "1406    76.518519\n",
      "1407    81.173010\n",
      "1408    76.307494\n",
      "1409    75.513245\n",
      "1410    74.162264\n",
      "1411    78.258454\n",
      "1412    76.632997\n",
      "1413    74.831933\n",
      "1414    76.322967\n",
      "1415    70.734848\n",
      "1416    76.406326\n",
      "1417    80.351145\n",
      "1418    79.214583\n",
      "1419    78.899767\n",
      "1420    75.580537\n",
      "1421    77.635838\n",
      "1422    75.621622\n",
      "1423    71.985138\n",
      "1424    81.410219\n",
      "1425    77.563830\n",
      "1426    77.968912\n",
      "1427    80.534483\n",
      "1428    73.972927\n",
      "1429    75.175973\n",
      "1430    74.267081\n",
      "1431    75.533217\n",
      "1432    71.535714\n",
      "1433    76.163399\n",
      "1434    75.876033\n",
      "1435    78.894831\n",
      "1436    74.937888\n",
      "1437    77.362480\n",
      "1438    75.750000\n",
      "1439    76.808333\n",
      "1440    81.202847\n",
      "1441    76.698113\n",
      "1442    73.983607\n",
      "1443    77.076789\n",
      "1444    75.374179\n",
      "1445    69.230769\n",
      "1446    68.285714\n",
      "1447    77.524706\n",
      "1448    77.660448\n",
      "1449    79.097030\n",
      "1450    74.672414\n",
      "1451    78.979757\n",
      "1452    78.417678\n",
      "1453    70.580078\n",
      "1454    76.242507\n",
      "1455    74.114815\n",
      "1456    73.110119\n",
      "1457    73.652284\n",
      "1458    71.838655\n",
      "1459    73.861224\n",
      "1460    75.531469\n",
      "1461    75.170082\n",
      "1462    79.906021\n",
      "1463    71.720102\n",
      "1464    73.926056\n",
      "\n",
      "Teams with Higher Average Losing Score than Winning Score:\n",
      "Empty DataFrame\n",
      "Columns: [AverageLosingScore, AverageWinningScore]\n",
      "Index: []\n",
      "\n",
      "Teams with Losing Scores Close to Winning Scores:\n",
      "      AverageLosingScore  AverageWinningScore\n",
      "1118           64.190476                 66.5\n"
     ]
    }
   ],
   "source": [
    "# Group the DataFrame by losing team and calculate the average losing score\n",
    "average_losing_score = df.groupby('Lteam')['Lscore'].mean()\n",
    "\n",
    "print(\"Average Losing Score per Team:\")\n",
    "print(average_losing_score.to_string())\n",
    "\n",
    "# Group the DataFrame by winning team and calculate the average winning score\n",
    "average_winning_score = df.groupby('Wteam')['Wscore'].mean()\n",
    "\n",
    "print(\"\\nAverage Winning Score per Team:\")\n",
    "print(average_winning_score.to_string())\n",
    "\n",
    "# Compare the average losing and winning scores by merging the two results on team \n",
    "comparison_df = pd.DataFrame({\n",
    "    'AverageLosingScore': average_losing_score,\n",
    "    'AverageWinningScore': average_winning_score\n",
    "}).dropna()  # Drop teams that appear only in one group\n",
    "\n",
    "# Find teams where the average losing score is greater than the average winning score\n",
    "higher_losing_score_teams = comparison_df[comparison_df['AverageLosingScore'] > comparison_df['AverageWinningScore']]\n",
    "\n",
    "print(\"\\nTeams with Higher Average Losing Score than Winning Score:\")\n",
    "print(higher_losing_score_teams)\n",
    "\n",
    "\n",
    "# Find teams where losing score is close to winning score (within 5 points)\n",
    "close_losing_score_teams = comparison_df[\n",
    "    abs(comparison_df['AverageLosingScore'] - comparison_df['AverageWinningScore']) <= 5\n",
    "]\n",
    "\n",
    "# Print the results of teams with losing scores close to their winning scores\n",
    "print(\"\\nTeams with Losing Scores Close to Winning Scores:\")\n",
    "print(close_losing_score_teams)"
   ]
  },
  {
   "attachments": {},
   "cell_type": "markdown",
   "metadata": {},
   "source": [
    "# Dataframe Iteration"
   ]
  },
  {
   "attachments": {},
   "cell_type": "markdown",
   "metadata": {},
   "source": [
    "In order to iterate through dataframes, we can use the **iterrows()** function. Below is an example of what the first two rows look like. Each row in iterrows is a Series object"
   ]
  },
  {
   "cell_type": "code",
   "execution_count": 44,
   "metadata": {
    "collapsed": false
   },
   "outputs": [
    {
     "name": "stdout",
     "output_type": "stream",
     "text": [
      "Season             1985\n",
      "Daynum               20\n",
      "Wteam              1228\n",
      "Wscore               81\n",
      "Lteam              1328\n",
      "Lscore               64\n",
      "Wloc                  N\n",
      "Numot                 0\n",
      "ScoreDifference      17\n",
      "Name: 0, dtype: object\n",
      "Season             1985\n",
      "Daynum               25\n",
      "Wteam              1106\n",
      "Wscore               77\n",
      "Lteam              1354\n",
      "Lscore               70\n",
      "Wloc                  H\n",
      "Numot                 0\n",
      "ScoreDifference       7\n",
      "Name: 1, dtype: object\n"
     ]
    }
   ],
   "source": [
    "for index, row in df.iterrows():\n",
    "    print(row)\n",
    "    if index == 1:\n",
    "        break"
   ]
  },
  {
   "attachments": {},
   "cell_type": "markdown",
   "metadata": {},
   "source": [
    "**Q**: Create a new column 'HighScoringGame' that is 'Yes' if the winning score is greater than 100 and 'No' otherwise. This will require iterating over the rows of the DataFrame and checking the value of the winning score for each row."
   ]
  },
  {
   "cell_type": "code",
   "execution_count": 45,
   "metadata": {},
   "outputs": [
    {
     "name": "stdout",
     "output_type": "stream",
     "text": [
      "DataFrame with 'HighScoringGame' column:\n",
      " Season  Daynum  Wteam  Wscore  Lteam  Lscore Wloc  Numot  ScoreDifference HighScoringGame\n",
      "   1985      20   1228      81   1328      64    N      0               17              No\n",
      "   1985      25   1106      77   1354      70    H      0                7              No\n",
      "   1985      25   1112      63   1223      56    H      0                7              No\n",
      "   1985      25   1165      70   1432      54    H      0               16              No\n",
      "   1985      25   1192      86   1447      74    H      0               12              No\n",
      "   1985      25   1218      79   1337      78    H      0                1              No\n",
      "   1985      25   1228      64   1226      44    N      0               20              No\n",
      "   1985      25   1242      58   1268      56    N      0                2              No\n",
      "   1985      25   1260      98   1133      80    H      0               18              No\n",
      "   1985      25   1305      97   1424      89    H      0                8              No\n"
     ]
    }
   ],
   "source": [
    "# Create a new column 'HighScoringGame'\n",
    "df['HighScoringGame'] = df['Wscore'].apply(lambda x: 'Yes' if x > 100 else 'No')\n",
    "\n",
    "# Display the first 10 rows of the DataFrame\n",
    "print(\"DataFrame with 'HighScoringGame' column:\")\n",
    "print(df.head(10).to_string(index=False))\n"
   ]
  },
  {
   "attachments": {},
   "cell_type": "markdown",
   "metadata": {},
   "source": [
    "**Q**: Calculate the total number of games played by each team, whether they won or lost. This will require iterating over the rows of the DataFrame and updating a dictionary that keeps track of the number of games for each team."
   ]
  },
  {
   "cell_type": "code",
   "execution_count": 46,
   "metadata": {},
   "outputs": [
    {
     "name": "stdout",
     "output_type": "stream",
     "text": [
      "\n",
      "Total games played by each team:\n",
      "Team 1228: 992 games\n",
      "Team 1328: 968 games\n",
      "Team 1106: 855 games\n",
      "Team 1354: 906 games\n",
      "Team 1112: 981 games\n",
      "Team 1223: 363 games\n",
      "Team 1165: 833 games\n",
      "Team 1432: 69 games\n",
      "Team 1192: 908 games\n",
      "Team 1447: 903 games\n"
     ]
    }
   ],
   "source": [
    "# Dictionary to keep track of the total number of games for each team\n",
    "team_games = {}\n",
    "\n",
    "# Iterate over the rows of the DataFrame\n",
    "for index, row in df.iterrows():\n",
    "    # Increment games for the winning team\n",
    "    if row['Wteam'] in team_games:\n",
    "        team_games[row['Wteam']] += 1\n",
    "    else:\n",
    "        team_games[row['Wteam']] = 1\n",
    "    \n",
    "    # Increment games for the losing team\n",
    "    if row['Lteam'] in team_games:\n",
    "        team_games[row['Lteam']] += 1\n",
    "    else:\n",
    "        team_games[row['Lteam']] = 1\n",
    "\n",
    "# Display the total number of games played by each team\n",
    "print(\"\\nTotal games played by each team:\")\n",
    "for team, games in list(team_games.items())[:10]:  # Displaying a sample\n",
    "    print(f\"Team {team}: {games} games\")\n"
   ]
  },
  {
   "attachments": {},
   "cell_type": "markdown",
   "metadata": {},
   "source": [
    "**Q**: For each season, find the game with the highest score difference (winning score - losing score). This will require iterating over the rows of the DataFrame, keeping track of the highest score difference for each season, and updating it if a game with a higher score difference is found."
   ]
  },
  {
   "cell_type": "code",
   "execution_count": 47,
   "metadata": {},
   "outputs": [
    {
     "name": "stdout",
     "output_type": "stream",
     "text": [
      "\n",
      "Game with the highest score difference per season:\n",
      "Season 1985: Winning Team 1361, Losing Team 1288, Score Difference 60\n",
      "Season 1986: Winning Team 1314, Losing Team 1264, Score Difference 84\n",
      "Season 1987: Winning Team 1155, Losing Team 1118, Score Difference 73\n",
      "Season 1988: Winning Team 1328, Losing Team 1147, Score Difference 68\n",
      "Season 1989: Winning Team 1242, Losing Team 1135, Score Difference 70\n",
      "Season 1990: Winning Team 1181, Losing Team 1217, Score Difference 76\n",
      "Season 1991: Winning Team 1163, Losing Team 1148, Score Difference 68\n",
      "Season 1992: Winning Team 1116, Losing Team 1126, Score Difference 82\n",
      "Season 1993: Winning Team 1328, Losing Team 1197, Score Difference 81\n",
      "Season 1994: Winning Team 1228, Losing Team 1152, Score Difference 69\n",
      "Season 1995: Winning Team 1246, Losing Team 1404, Score Difference 74\n",
      "Season 1996: Winning Team 1409, Losing Team 1341, Score Difference 91\n",
      "Season 1997: Winning Team 1278, Losing Team 1106, Score Difference 80\n",
      "Season 1998: Winning Team 1395, Losing Team 1410, Score Difference 66\n",
      "Season 1999: Winning Team 1268, Losing Team 1317, Score Difference 75\n",
      "Season 2000: Winning Team 1261, Losing Team 1212, Score Difference 75\n",
      "Season 2001: Winning Team 1196, Losing Team 1197, Score Difference 75\n",
      "Season 2002: Winning Team 1328, Losing Team 1183, Score Difference 59\n",
      "Season 2003: Winning Team 1403, Losing Team 1311, Score Difference 72\n",
      "Season 2004: Winning Team 1328, Losing Team 1115, Score Difference 70\n",
      "Season 2005: Winning Team 1403, Losing Team 1421, Score Difference 64\n",
      "Season 2006: Winning Team 1400, Losing Team 1341, Score Difference 72\n",
      "Season 2007: Winning Team 1401, Losing Team 1212, Score Difference 74\n",
      "Season 2008: Winning Team 1182, Losing Team 1224, Score Difference 70\n",
      "Season 2009: Winning Team 1314, Losing Team 1421, Score Difference 68\n",
      "Season 2010: Winning Team 1397, Losing Team 1421, Score Difference 75\n",
      "Season 2011: Winning Team 1388, Losing Team 1152, Score Difference 69\n",
      "Season 2012: Winning Team 1345, Losing Team 1296, Score Difference 62\n",
      "Season 2013: Winning Team 1235, Losing Team 1105, Score Difference 58\n",
      "Season 2014: Winning Team 1256, Losing Team 1255, Score Difference 74\n",
      "Season 2015: Winning Team 1181, Losing Team 1342, Score Difference 69\n",
      "Season 2016: Winning Team 1139, Losing Team 1154, Score Difference 73\n"
     ]
    }
   ],
   "source": [
    "# Dictionary to track the highest score difference for each season\n",
    "highest_diff_games = {}\n",
    "\n",
    "# Iterate over the rows of the DataFrame\n",
    "for index, row in df.iterrows():\n",
    "    season = row['Season']\n",
    "    score_diff = row['Wscore'] - row['Lscore']\n",
    "    \n",
    "    # If the season is not in the dictionary or if this game has a higher score difference\n",
    "    if season not in highest_diff_games or score_diff > highest_diff_games[season]['ScoreDifference']:\n",
    "        highest_diff_games[season] = {\n",
    "            'Season': season,\n",
    "            'WinningTeam': row['Wteam'],\n",
    "            'LosingTeam': row['Lteam'],\n",
    "            'ScoreDifference': score_diff\n",
    "        }\n",
    "\n",
    "# Display the game with the highest score difference for each season\n",
    "print(\"\\nGame with the highest score difference per season:\")\n",
    "for season, game_info in highest_diff_games.items():\n",
    "    print(f\"Season {season}: Winning Team {game_info['WinningTeam']}, Losing Team {game_info['LosingTeam']}, \"\n",
    "          f\"Score Difference {game_info['ScoreDifference']}\")\n"
   ]
  },
  {
   "attachments": {},
   "cell_type": "markdown",
   "metadata": {},
   "source": [
    "Remember, iterating over a DataFrame should generally be avoided if a vectorized operation can be used instead, as vectorized operations are usually much faster. However, these tasks are designed to give practice with DataFrame iteration for cases where it might be necessary."
   ]
  },
  {
   "attachments": {},
   "cell_type": "markdown",
   "metadata": {},
   "source": [
    "Vectorized Operation Example: Create a new column 'HighScoringGame' in the DataFrame using a vectorized operation. This column should contain 'Yes' if the winning score is greater than 100 and 'No' otherwise. Use the np.where function from the numpy library for this task."
   ]
  },
  {
   "cell_type": "code",
   "execution_count": 48,
   "metadata": {},
   "outputs": [],
   "source": [
    "import numpy as np\n",
    "df['HighScoringGame'] = np.where(df['Wscore'] > 100, 'Yes', 'No')"
   ]
  },
  {
   "attachments": {},
   "cell_type": "markdown",
   "metadata": {},
   "source": [
    "**Q**: Vectorized Operation: Calculate the total number of games played by each team, whether they won or lost. Instead of iterating over the DataFrame, use the value_counts() function on the winning team and losing team columns separately, and then add the two Series together."
   ]
  },
  {
   "cell_type": "code",
   "execution_count": 49,
   "metadata": {},
   "outputs": [
    {
     "name": "stdout",
     "output_type": "stream",
     "text": [
      "Total games played by each team (Vectorized):\n",
      "1181    1013\n",
      "1314    1010\n",
      "1246     999\n",
      "1257     994\n",
      "1393     993\n",
      "1242     993\n",
      "1228     992\n",
      "1272     992\n",
      "1437     983\n",
      "1400     982\n",
      "Name: count, dtype: int64\n"
     ]
    }
   ],
   "source": [
    "# Count the occurrences of each team in Wteam and Lteam\n",
    "winning_team_counts = df['Wteam'].value_counts()\n",
    "losing_team_counts = df['Lteam'].value_counts()\n",
    "\n",
    "# Combine the counts (fill missing teams with 0)\n",
    "total_games_played = winning_team_counts.add(losing_team_counts, fill_value=0).astype(int)\n",
    "\n",
    "# Display the total number of games played by each team\n",
    "print(\"Total games played by each team (Vectorized):\")\n",
    "print(total_games_played.sort_values(ascending=False).head(10))  # Display the top 10 teams\n"
   ]
  },
  {
   "attachments": {},
   "cell_type": "markdown",
   "metadata": {},
   "source": [
    "**Q**: For each season, find the game with the highest score difference (winning score - losing score). Instead of iterating over the DataFrame, create a new column 'ScoreDifference' using vectorized subtraction, then use the groupby() function and idxmax() function to find the game with the highest score difference for each season."
   ]
  },
  {
   "cell_type": "code",
   "execution_count": 50,
   "metadata": {},
   "outputs": [
    {
     "name": "stdout",
     "output_type": "stream",
     "text": [
      "\n",
      "Game with the highest score difference for each season:\n",
      "        Season  Wteam  Lteam  ScoreDifference\n",
      "236       1985   1361   1288               60\n",
      "4731      1986   1314   1264               84\n",
      "8240      1987   1155   1118               73\n",
      "12046     1988   1328   1147               68\n",
      "16677     1989   1242   1135               70\n",
      "19502     1990   1181   1217               76\n",
      "25161     1991   1163   1148               68\n",
      "27997     1992   1116   1126               82\n",
      "33858     1993   1328   1197               81\n",
      "36404     1994   1228   1152               69\n",
      "39858     1995   1246   1404               74\n",
      "44653     1996   1409   1341               91\n",
      "49033     1997   1278   1106               80\n",
      "52600     1998   1395   1410               66\n",
      "57618     1999   1268   1317               75\n",
      "60616     2000   1261   1212               75\n",
      "65999     2001   1196   1197               75\n",
      "70737     2002   1328   1183               59\n",
      "74791     2003   1403   1311               72\n",
      "79181     2004   1328   1115               70\n",
      "83372     2005   1403   1421               64\n",
      "89542     2006   1400   1341               72\n",
      "94507     2007   1401   1212               74\n",
      "97737     2008   1182   1224               70\n",
      "103723    2009   1314   1421               68\n",
      "108405    2010   1397   1421               75\n",
      "114015    2011   1388   1152               69\n",
      "118699    2012   1345   1296               62\n",
      "124057    2013   1235   1105               58\n",
      "131373    2014   1256   1255               74\n",
      "134590    2015   1181   1342               69\n",
      "140040    2016   1139   1154               73\n"
     ]
    }
   ],
   "source": [
    "# Create a new column 'ScoreDifference' using vectorized subtraction\n",
    "df['ScoreDifference'] = df['Wscore'] - df['Lscore']\n",
    "\n",
    "# Group by season and find the row with the maximum score difference\n",
    "highest_diff_games_per_season = df.loc[df.groupby('Season')['ScoreDifference'].idxmax()]\n",
    "\n",
    "# Display the results\n",
    "print(\"\\nGame with the highest score difference for each season:\")\n",
    "print(highest_diff_games_per_season[['Season', 'Wteam', 'Lteam', 'ScoreDifference']])\n"
   ]
  },
  {
   "attachments": {},
   "cell_type": "markdown",
   "metadata": {},
   "source": [
    "# Extracting Rows and Columns"
   ]
  },
  {
   "attachments": {},
   "cell_type": "markdown",
   "metadata": {},
   "source": [
    "The bracket indexing operator is one way to extract certain columns from a dataframe."
   ]
  },
  {
   "cell_type": "code",
   "execution_count": 51,
   "metadata": {
    "collapsed": false,
    "scrolled": true
   },
   "outputs": [
    {
     "data": {
      "text/html": [
       "<div>\n",
       "<style scoped>\n",
       "    .dataframe tbody tr th:only-of-type {\n",
       "        vertical-align: middle;\n",
       "    }\n",
       "\n",
       "    .dataframe tbody tr th {\n",
       "        vertical-align: top;\n",
       "    }\n",
       "\n",
       "    .dataframe thead th {\n",
       "        text-align: right;\n",
       "    }\n",
       "</style>\n",
       "<table border=\"1\" class=\"dataframe\">\n",
       "  <thead>\n",
       "    <tr style=\"text-align: right;\">\n",
       "      <th></th>\n",
       "      <th>Wscore</th>\n",
       "      <th>Lscore</th>\n",
       "    </tr>\n",
       "  </thead>\n",
       "  <tbody>\n",
       "    <tr>\n",
       "      <th>0</th>\n",
       "      <td>81</td>\n",
       "      <td>64</td>\n",
       "    </tr>\n",
       "    <tr>\n",
       "      <th>1</th>\n",
       "      <td>77</td>\n",
       "      <td>70</td>\n",
       "    </tr>\n",
       "    <tr>\n",
       "      <th>2</th>\n",
       "      <td>63</td>\n",
       "      <td>56</td>\n",
       "    </tr>\n",
       "    <tr>\n",
       "      <th>3</th>\n",
       "      <td>70</td>\n",
       "      <td>54</td>\n",
       "    </tr>\n",
       "    <tr>\n",
       "      <th>4</th>\n",
       "      <td>86</td>\n",
       "      <td>74</td>\n",
       "    </tr>\n",
       "  </tbody>\n",
       "</table>\n",
       "</div>"
      ],
      "text/plain": [
       "   Wscore  Lscore\n",
       "0      81      64\n",
       "1      77      70\n",
       "2      63      56\n",
       "3      70      54\n",
       "4      86      74"
      ]
     },
     "execution_count": 51,
     "metadata": {},
     "output_type": "execute_result"
    }
   ],
   "source": [
    "df[['Wscore', 'Lscore']].head()"
   ]
  },
  {
   "attachments": {},
   "cell_type": "markdown",
   "metadata": {},
   "source": [
    "Notice that you can acheive the same result by using the loc function. Loc is a veryyyy versatile function that can help you in a lot of accessing and extracting tasks. "
   ]
  },
  {
   "cell_type": "code",
   "execution_count": 52,
   "metadata": {
    "collapsed": false
   },
   "outputs": [
    {
     "data": {
      "text/html": [
       "<div>\n",
       "<style scoped>\n",
       "    .dataframe tbody tr th:only-of-type {\n",
       "        vertical-align: middle;\n",
       "    }\n",
       "\n",
       "    .dataframe tbody tr th {\n",
       "        vertical-align: top;\n",
       "    }\n",
       "\n",
       "    .dataframe thead th {\n",
       "        text-align: right;\n",
       "    }\n",
       "</style>\n",
       "<table border=\"1\" class=\"dataframe\">\n",
       "  <thead>\n",
       "    <tr style=\"text-align: right;\">\n",
       "      <th></th>\n",
       "      <th>Wscore</th>\n",
       "      <th>Lscore</th>\n",
       "    </tr>\n",
       "  </thead>\n",
       "  <tbody>\n",
       "    <tr>\n",
       "      <th>0</th>\n",
       "      <td>81</td>\n",
       "      <td>64</td>\n",
       "    </tr>\n",
       "    <tr>\n",
       "      <th>1</th>\n",
       "      <td>77</td>\n",
       "      <td>70</td>\n",
       "    </tr>\n",
       "    <tr>\n",
       "      <th>2</th>\n",
       "      <td>63</td>\n",
       "      <td>56</td>\n",
       "    </tr>\n",
       "    <tr>\n",
       "      <th>3</th>\n",
       "      <td>70</td>\n",
       "      <td>54</td>\n",
       "    </tr>\n",
       "    <tr>\n",
       "      <th>4</th>\n",
       "      <td>86</td>\n",
       "      <td>74</td>\n",
       "    </tr>\n",
       "  </tbody>\n",
       "</table>\n",
       "</div>"
      ],
      "text/plain": [
       "   Wscore  Lscore\n",
       "0      81      64\n",
       "1      77      70\n",
       "2      63      56\n",
       "3      70      54\n",
       "4      86      74"
      ]
     },
     "execution_count": 52,
     "metadata": {},
     "output_type": "execute_result"
    }
   ],
   "source": [
    "df.loc[:, ['Wscore', 'Lscore']].head()"
   ]
  },
  {
   "attachments": {},
   "cell_type": "markdown",
   "metadata": {},
   "source": [
    "Note the difference is the return types when you use brackets and when you use double brackets. "
   ]
  },
  {
   "cell_type": "code",
   "execution_count": 53,
   "metadata": {
    "collapsed": false
   },
   "outputs": [
    {
     "data": {
      "text/plain": [
       "pandas.core.series.Series"
      ]
     },
     "execution_count": 53,
     "metadata": {},
     "output_type": "execute_result"
    }
   ],
   "source": [
    "type(df['Wscore'])"
   ]
  },
  {
   "cell_type": "code",
   "execution_count": 54,
   "metadata": {
    "collapsed": false
   },
   "outputs": [
    {
     "data": {
      "text/plain": [
       "pandas.core.frame.DataFrame"
      ]
     },
     "execution_count": 54,
     "metadata": {},
     "output_type": "execute_result"
    }
   ],
   "source": [
    "type(df[['Wscore']])"
   ]
  },
  {
   "attachments": {},
   "cell_type": "markdown",
   "metadata": {},
   "source": [
    "You've seen before that you can access columns through df['col name']. You can access rows by using slicing operations. "
   ]
  },
  {
   "cell_type": "code",
   "execution_count": 55,
   "metadata": {
    "collapsed": false
   },
   "outputs": [
    {
     "data": {
      "text/html": [
       "<div>\n",
       "<style scoped>\n",
       "    .dataframe tbody tr th:only-of-type {\n",
       "        vertical-align: middle;\n",
       "    }\n",
       "\n",
       "    .dataframe tbody tr th {\n",
       "        vertical-align: top;\n",
       "    }\n",
       "\n",
       "    .dataframe thead th {\n",
       "        text-align: right;\n",
       "    }\n",
       "</style>\n",
       "<table border=\"1\" class=\"dataframe\">\n",
       "  <thead>\n",
       "    <tr style=\"text-align: right;\">\n",
       "      <th></th>\n",
       "      <th>Season</th>\n",
       "      <th>Daynum</th>\n",
       "      <th>Wteam</th>\n",
       "      <th>Wscore</th>\n",
       "      <th>Lteam</th>\n",
       "      <th>Lscore</th>\n",
       "      <th>Wloc</th>\n",
       "      <th>Numot</th>\n",
       "      <th>ScoreDifference</th>\n",
       "      <th>HighScoringGame</th>\n",
       "    </tr>\n",
       "  </thead>\n",
       "  <tbody>\n",
       "    <tr>\n",
       "      <th>0</th>\n",
       "      <td>1985</td>\n",
       "      <td>20</td>\n",
       "      <td>1228</td>\n",
       "      <td>81</td>\n",
       "      <td>1328</td>\n",
       "      <td>64</td>\n",
       "      <td>N</td>\n",
       "      <td>0</td>\n",
       "      <td>17</td>\n",
       "      <td>No</td>\n",
       "    </tr>\n",
       "    <tr>\n",
       "      <th>1</th>\n",
       "      <td>1985</td>\n",
       "      <td>25</td>\n",
       "      <td>1106</td>\n",
       "      <td>77</td>\n",
       "      <td>1354</td>\n",
       "      <td>70</td>\n",
       "      <td>H</td>\n",
       "      <td>0</td>\n",
       "      <td>7</td>\n",
       "      <td>No</td>\n",
       "    </tr>\n",
       "    <tr>\n",
       "      <th>2</th>\n",
       "      <td>1985</td>\n",
       "      <td>25</td>\n",
       "      <td>1112</td>\n",
       "      <td>63</td>\n",
       "      <td>1223</td>\n",
       "      <td>56</td>\n",
       "      <td>H</td>\n",
       "      <td>0</td>\n",
       "      <td>7</td>\n",
       "      <td>No</td>\n",
       "    </tr>\n",
       "  </tbody>\n",
       "</table>\n",
       "</div>"
      ],
      "text/plain": [
       "   Season  Daynum  Wteam  Wscore  Lteam  Lscore Wloc  Numot  ScoreDifference  \\\n",
       "0    1985      20   1228      81   1328      64    N      0               17   \n",
       "1    1985      25   1106      77   1354      70    H      0                7   \n",
       "2    1985      25   1112      63   1223      56    H      0                7   \n",
       "\n",
       "  HighScoringGame  \n",
       "0              No  \n",
       "1              No  \n",
       "2              No  "
      ]
     },
     "execution_count": 55,
     "metadata": {},
     "output_type": "execute_result"
    }
   ],
   "source": [
    "df[0:3]"
   ]
  },
  {
   "attachments": {},
   "cell_type": "markdown",
   "metadata": {},
   "source": [
    "Here's an equivalent using iloc"
   ]
  },
  {
   "cell_type": "code",
   "execution_count": 56,
   "metadata": {
    "collapsed": false
   },
   "outputs": [
    {
     "data": {
      "text/html": [
       "<div>\n",
       "<style scoped>\n",
       "    .dataframe tbody tr th:only-of-type {\n",
       "        vertical-align: middle;\n",
       "    }\n",
       "\n",
       "    .dataframe tbody tr th {\n",
       "        vertical-align: top;\n",
       "    }\n",
       "\n",
       "    .dataframe thead th {\n",
       "        text-align: right;\n",
       "    }\n",
       "</style>\n",
       "<table border=\"1\" class=\"dataframe\">\n",
       "  <thead>\n",
       "    <tr style=\"text-align: right;\">\n",
       "      <th></th>\n",
       "      <th>Season</th>\n",
       "      <th>Daynum</th>\n",
       "      <th>Wteam</th>\n",
       "      <th>Wscore</th>\n",
       "      <th>Lteam</th>\n",
       "      <th>Lscore</th>\n",
       "      <th>Wloc</th>\n",
       "      <th>Numot</th>\n",
       "      <th>ScoreDifference</th>\n",
       "      <th>HighScoringGame</th>\n",
       "    </tr>\n",
       "  </thead>\n",
       "  <tbody>\n",
       "    <tr>\n",
       "      <th>0</th>\n",
       "      <td>1985</td>\n",
       "      <td>20</td>\n",
       "      <td>1228</td>\n",
       "      <td>81</td>\n",
       "      <td>1328</td>\n",
       "      <td>64</td>\n",
       "      <td>N</td>\n",
       "      <td>0</td>\n",
       "      <td>17</td>\n",
       "      <td>No</td>\n",
       "    </tr>\n",
       "    <tr>\n",
       "      <th>1</th>\n",
       "      <td>1985</td>\n",
       "      <td>25</td>\n",
       "      <td>1106</td>\n",
       "      <td>77</td>\n",
       "      <td>1354</td>\n",
       "      <td>70</td>\n",
       "      <td>H</td>\n",
       "      <td>0</td>\n",
       "      <td>7</td>\n",
       "      <td>No</td>\n",
       "    </tr>\n",
       "    <tr>\n",
       "      <th>2</th>\n",
       "      <td>1985</td>\n",
       "      <td>25</td>\n",
       "      <td>1112</td>\n",
       "      <td>63</td>\n",
       "      <td>1223</td>\n",
       "      <td>56</td>\n",
       "      <td>H</td>\n",
       "      <td>0</td>\n",
       "      <td>7</td>\n",
       "      <td>No</td>\n",
       "    </tr>\n",
       "  </tbody>\n",
       "</table>\n",
       "</div>"
      ],
      "text/plain": [
       "   Season  Daynum  Wteam  Wscore  Lteam  Lscore Wloc  Numot  ScoreDifference  \\\n",
       "0    1985      20   1228      81   1328      64    N      0               17   \n",
       "1    1985      25   1106      77   1354      70    H      0                7   \n",
       "2    1985      25   1112      63   1223      56    H      0                7   \n",
       "\n",
       "  HighScoringGame  \n",
       "0              No  \n",
       "1              No  \n",
       "2              No  "
      ]
     },
     "execution_count": 56,
     "metadata": {},
     "output_type": "execute_result"
    }
   ],
   "source": [
    "df.iloc[0:3,:]"
   ]
  },
  {
   "attachments": {},
   "cell_type": "markdown",
   "metadata": {},
   "source": [
    "# Data Cleaning"
   ]
  },
  {
   "attachments": {},
   "cell_type": "markdown",
   "metadata": {},
   "source": [
    "One of the big jobs of doing well in Kaggle competitions is that of data cleaning. A lot of times, the CSV file you're given (especially like in the Titanic dataset), you'll have a lot of missing values in the dataset, which you have to identify. The following **isnull** function will figure out if there are any missing values in the dataframe, and will then sum up the total for each column. In this case, we have a pretty clean dataset."
   ]
  },
  {
   "cell_type": "code",
   "execution_count": 57,
   "metadata": {
    "collapsed": false
   },
   "outputs": [
    {
     "data": {
      "text/plain": [
       "Season             0\n",
       "Daynum             0\n",
       "Wteam              0\n",
       "Wscore             0\n",
       "Lteam              0\n",
       "Lscore             0\n",
       "Wloc               0\n",
       "Numot              0\n",
       "ScoreDifference    0\n",
       "HighScoringGame    0\n",
       "dtype: int64"
      ]
     },
     "execution_count": 57,
     "metadata": {},
     "output_type": "execute_result"
    }
   ],
   "source": [
    "df.isnull().sum()"
   ]
  },
  {
   "attachments": {},
   "cell_type": "markdown",
   "metadata": {},
   "source": [
    "If you do end up having missing values in your datasets, be sure to get familiar with these two functions. \n",
    "* **dropna()** - This function allows you to drop all(or some) of the rows that have missing values. \n",
    "* **fillna()** - This function allows you replace the rows that have missing values with the value that you pass in."
   ]
  },
  {
   "attachments": {},
   "cell_type": "markdown",
   "metadata": {},
   "source": [
    "# Other Useful Functions"
   ]
  },
  {
   "attachments": {},
   "cell_type": "markdown",
   "metadata": {},
   "source": [
    "* **drop()** - This function removes the column or row that you pass in (You also have the specify the axis). \n",
    "* **agg()** - The aggregate function lets you compute summary statistics about each group\n",
    "* **apply()** - Lets you apply a specific function to any/all elements in a Dataframe or Series\n",
    "* **get_dummies()** - Helpful for turning categorical data into one hot vectors.\n",
    "* **drop_duplicates()** - Lets you remove identical rows"
   ]
  },
  {
   "attachments": {},
   "cell_type": "markdown",
   "metadata": {
    "collapsed": true
   },
   "source": [
    "# Lots of Other Great Resources"
   ]
  },
  {
   "attachments": {},
   "cell_type": "markdown",
   "metadata": {},
   "source": [
    "Pandas has been around for a while and there are a lot of other good resources if you're still interested on getting the most out of this library. \n",
    "* http://pandas.pydata.org/pandas-docs/stable/10min.html\n",
    "* https://www.datacamp.com/community/tutorials/pandas-tutorial-dataframe-python\n",
    "* http://www.gregreda.com/2013/10/26/intro-to-pandas-data-structures/\n",
    "* https://www.dataquest.io/blog/pandas-python-tutorial/\n",
    "* https://drive.google.com/file/d/0ByIrJAE4KMTtTUtiVExiUGVkRkE/view\n",
    "* https://www.youtube.com/playlist?list=PL5-da3qGB5ICCsgW1MxlZ0Hq8LL5U3u9y"
   ]
  }
 ],
 "metadata": {
  "anaconda-cloud": {},
  "kernelspec": {
   "display_name": "base",
   "language": "python",
   "name": "python3"
  },
  "language_info": {
   "codemirror_mode": {
    "name": "ipython",
    "version": 3
   },
   "file_extension": ".py",
   "mimetype": "text/x-python",
   "name": "python",
   "nbconvert_exporter": "python",
   "pygments_lexer": "ipython3",
   "version": "3.12.7"
  }
 },
 "nbformat": 4,
 "nbformat_minor": 1
}
